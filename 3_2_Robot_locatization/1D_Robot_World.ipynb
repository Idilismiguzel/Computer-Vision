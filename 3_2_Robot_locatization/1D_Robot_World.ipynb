{
  "cells":[
    {
      "cell_type":"markdown",
      "source":[
        "# The Robot World\n",
        "\n",
        "A robot, much like you, perceives the world through its \"senses.\" For example, self-driving cars use video, radar, and Lidar, to observe the world around them. As cars gather data, they build up a 3D world of observations that tells the car where it is, where other objects (like trees, pedestrians, and other vehicles) are, and where it should be going! \n",
        "\n",
        "In this section, we'll be working with first a 1D then a 2D representation of the world for simplicity, and because two dimensions are often all you'll need to solve a certain problem. \n",
        "* You'll be given a set of quizzes to solve to build up your understanding of robot localization. \n",
        "* Try your best to solve these quizzes and consult the solution if you get stuck or want to confirm your answer.\n",
        "\n",
        "\n",
        "<img src=\"images\/lidar.png\" width=\"50%\" height=\"50%\">\n",
        "\n",
        "\n",
        "These grid representations of the environment are known as **discrete** representations. Discrete just means a limited number of places a robot can be (ex. in one grid cell). That's because robots, and autonomous vehicles like self-driving cars, use maps to figure out where they are, and maps lend themselves to being divided up into grids and sections.\n",
        "\n",
        "You'll see **continuous** probability distributions when locating objects that are moving around the robot. Continuous means that these objects can be anywhere around the robot and their movement is smooth.\n",
        "\n",
        "So, let's start with the 1D case."
      ],
      "metadata":{
        
      }
    },
    {
      "cell_type":"markdown",
      "source":[
        "### Robot World 1-D\n",
        "\n",
        "First, imagine you have a robot living in a 1-D world. You can think of a 1D world as a one-lane road. \n",
        "\n",
        "<img src=\"images\/road_1.png\" width=\"50%\" height=\"50%\">\n",
        "\n",
        "We can treat this road as an array, and break it up into grid cells for a robot to understand. In this case, the road is a 1D grid with 5 different spaces. The robot can only move forwards or backwards. If the robot falls off the grid, it will loop back around to the other side (this is known as a cyclic world).\n",
        "\n",
        "<img src=\"images\/numbered_grid.png\" width=\"50%\" height=\"50%\">\n",
        "\n",
        "### Uniform Distribution\n",
        "\n",
        "The robot has a map so that it knows there are only 5 spaces in this 1D world. However, it hasn't sensed anything or moved. For a length of 5 cells (a list of 5 values), what is the probability distribution, `p`, that the robot is in any one of these locations?\n",
        "\n",
        "Since the robot does not know where it is at first, the probability of being in any space is the same! This is a probability distribution and so the sum of all these probabilities should be equal to 1, so `1\/5 spaces = 0.2`. A distribution in which all the probabilities are the same (and we have maximum uncertainty) is called a **uniform distribution**."
      ],
      "metadata":{
        
      }
    },
    {
      "cell_type":"code",
      "source":[
        "import numpy as np\n",
        "import matplotlib.pyplot as plt"
      ],
      "execution_count":1,
      "outputs":[
        
      ],
      "metadata":{
        
      }
    },
    {
      "cell_type":"code",
      "source":[
        "# uniform distribution for 5 grid cells\n",
        "# use \"p\" to represent probability\n",
        "p = [0.2, 0.2, 0.2, 0.2, 0.2]\n",
        "print(p)"
      ],
      "execution_count":2,
      "outputs":[
        {
          "name":"stdout",
          "text":[
            "[0.2, 0.2, 0.2, 0.2, 0.2]\n"
          ],
          "output_type":"stream"
        }
      ],
      "metadata":{
        
      }
    },
    {
      "cell_type":"markdown",
      "source":[
        "I'll also include a helper function for visualizing this distribution. The below function, `display_map` will output a bar chart showing the probability that a robot is in each grid space. The y-axis has a range of 0 to 1 for the range of probabilities. For a uniform distribution, this will look like a flat line. You can choose the width of each bar to be <= 1 should you want to space these out. "
      ],
      "metadata":{
        
      }
    },
    {
      "cell_type":"code",
      "source":[
        "def display_map(grid, bar_width=1):\n",
        "    if(len(grid) > 0):\n",
        "        x_labels = range(len(grid))\n",
        "        plt.bar(x_labels, height=grid, width=bar_width, color=\"b\")\n",
        "        plt.xlabel(\"Grid Cell\")\n",
        "        plt.ylabel(\"Probability\")\n",
        "        plt.ylim(0,1) # range of 0-1 for probability values\n",
        "        plt.title(\"Probability of the robot being at each cell in the grid\")\n",
        "        plt.xticks(np.arange(min(x_labels), max(x_labels)+1, 1))\n",
        "        plt.show()\n",
        "    else:\n",
        "        print(\"Grid is empty\")\n",
        "\n",
        "# Call function on grid, p, from before\n",
        "display_map(p)"
      ],
      "execution_count":3,
      "outputs":[
        {
          "data":{
            "image\/png":"[encoded data removed]"
          },
          "metadata":{
            "image\/png":{
              "width":0,
              "height":0
            }
          },
          "output_type":"display_data"
        }
      ],
      "metadata":{
        
      }
    },
    {
      "cell_type":"markdown",
      "source":[
        "Now, what about if the world was 8 grid cells in length instead of 5?\n",
        "\n",
        "### QUIZ: Write a function that takes in the number of spaces in the robot's world (in this case 8), and returns the initial probability distribution `p` that the robot is in each space. \n",
        "\n",
        "This function should store the probabilities in a list. So in this example, there would be a list with 8 probabilities."
      ],
      "metadata":{
        
      }
    },
    {
      "cell_type":"markdown",
      "source":[
        "**Solution**\n",
        "\n",
        "We know that all the probabilities in these locations should sum up to 1. So, one solution to this includes dividing 1 by the number of grid cells, then appending that value to a list that is that same passed in number of grid cells in length."
      ],
      "metadata":{
        
      }
    },
    {
      "cell_type":"code",
      "source":[
        "def initialize_robot(grid_length):\n",
        "    \"\"\" Takes in a grid lenght and returns \n",
        "    a uniform distribution of localization probabilities\"\"\"\n",
        "    \n",
        "    p = []\n",
        "    \n",
        "    # Create a list that has the value 1\/grid_length for each cell\n",
        "    for i in range(grid_length):\n",
        "        p.append(1.0\/grid_length)\n",
        "    \n",
        "    return p"
      ],
      "execution_count":4,
      "outputs":[
        
      ],
      "metadata":{
        
      }
    },
    {
      "cell_type":"code",
      "source":[
        "p = initialize_robot(8)\n",
        "print(p)\n",
        "display_map(p)"
      ],
      "execution_count":5,
      "outputs":[
        {
          "name":"stdout",
          "text":[
            "[0.125, 0.125, 0.125, 0.125, 0.125, 0.125, 0.125, 0.125]\n"
          ],
          "output_type":"stream"
        },
        {
          "data":{
            "image\/png":"[encoded data removed]"
          },
          "metadata":{
            "image\/png":{
              "width":0,
              "height":0
            }
          },
          "output_type":"display_data"
        }
      ],
      "metadata":{
        
      }
    },
    {
      "cell_type":"code",
      "source":[
        "# Here is what this distribution looks like with some spacing\n",
        "# so we can clearly see that the probability that a robot is in each grid cell\n",
        "\n",
        "p = initialize_robot(8)\n",
        "print(p)\n",
        "display_map(p, bar_width=0.9)"
      ],
      "execution_count":6,
      "outputs":[
        {
          "name":"stdout",
          "text":[
            "[0.125, 0.125, 0.125, 0.125, 0.125, 0.125, 0.125, 0.125]\n"
          ],
          "output_type":"stream"
        },
        {
          "data":{
            "image\/png":"[encoded data removed]"
          },
          "metadata":{
            "image\/png":{
              "width":0,
              "height":0
            }
          },
          "output_type":"display_data"
        }
      ],
      "metadata":{
        
      }
    },
    {
      "cell_type":"markdown",
      "source":[
        "Now that we know how a robot initially sees a simple 1D world, let's see  how it can locate itself by moving around and sensing it's environment!"
      ],
      "metadata":{
        
      }
    },
    {
      "cell_type":"code",
      "source":[
        
      ],
      "execution_count":null,
      "outputs":[
        
      ],
      "metadata":{
        
      }
    }
  ],
  "metadata":{
    
  },
  "nbformat":4,
  "nbformat_minor":0
}