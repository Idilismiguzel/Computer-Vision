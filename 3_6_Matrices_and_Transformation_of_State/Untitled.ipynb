{
 "cells": [
  {
   "cell_type": "code",
   "execution_count": 3,
   "metadata": {
    "collapsed": true
   },
   "outputs": [],
   "source": [
    "raw = \"\"\"\n",
    "** Variable Definitions **\n",
    " \n",
    "<span class=\"mathquill\">\\mathbf{\\hat{x}}</span>  -   state vector\n",
    "\n",
    "<span class=\"mathquill\">\\mathbf{F}</span> - state transition matrix\n",
    "\n",
    "<span class=\"mathquill\">\\mathbf{P}</span>  -   error covariance matrix\n",
    "\n",
    "<span class=\"mathquill\">\\mathbf{Q}</span>  -  process noise covariance matrix\n",
    "\n",
    "<span class=\"mathquill\">\\mathbf{R}</span>  -   measurement noise covariance matrix\n",
    "\n",
    "<span class=\"mathquill\">\\mathbf{S}</span>  -   intermediate matrix for calculating Kalman gain\n",
    "\n",
    "<span class=\"mathquill\">\\mathbf{K}</span>  -   Kalman gain\n",
    "\n",
    "<span class=\"mathquill\">\\mathbf{\\tilde{y}}</span>  -   difference between predicted state and measured state\n",
    "\n",
    "<span class=\"mathquill\">\\mathbf{z}</span>  -   measurement vector (lidar data or radar data, etc.)\n",
    "\n",
    "<span class=\"mathquill\">\\mathbf{I}</span>  -   Identity matrix\n",
    "\n",
    "**Prediction Step Equations**\n",
    "\n",
    "PREDICT STATE VECTOR AND ERROR COVARIANCE MATRIX\n",
    "\n",
    "<span class=\"mathquill\">\\mathbf{\\hat{x}\\_{k|k-1}} = \\mathbf{F\\_{k}} \\mathbf{\\hat{x}\\_{k-1|k-1}}  </span>\n",
    "\n",
    "<span class=\"mathquill\">\\mathbf{P\\_{k|k-1}} = \\mathbf{F\\_{k}} \\mathbf{P\\_{k-1|k-1}} \\mathbf{F\\_{k}\\{^T}}  + \\mathbf{Q\\_{k}}</span>\n",
    "\n",
    "**Update Step Equations**\n",
    "\n",
    "KALMAN GAIN\n",
    "\n",
    "<span class=\"mathquill\">\\mathbf{S\\_{k}} = \\mathbf{H\\_{k}} \\mathbf{P\\_{k|k-1}} \\mathbf{H\\_{k}\\{^T}} + \n",
    "\\mathbf{R_{k}}</span>\n",
    "\n",
    "<span class=\"mathquill\">\\mathbf{K\\_{k}} = \\mathbf{P\\_{k|k-1}} \\mathbf{H\\_{k}\\{^T}} \\mathbf{S\\_{k}}^{-1}</span>\n",
    "\n",
    "UPDATE STATE VECTOR AND ERROR COVARIANCE MATRIX\n",
    "\n",
    "<span class=\"mathquill\">\\mathbf{\\tilde{y\\_{k}}} = \\mathbf{z\\_{k}} - \\mathbf{H\\_{k}} \\mathbf{\\hat{x}\\_{k|k-1}} </span>\n",
    "\n",
    "<span class=\"mathquill\">\\mathbf{\\hat{x}\\_{k|k}} = \\mathbf{\\hat{x}\\_{k|k-1}} +\\mathbf{ K\\_{k}} \\mathbf{\\tilde{y\\_{k}}}</span>\n",
    "\n",
    "<span class=\"mathquill\">\\mathbf{P\\_{k|k}} = (\\mathbf{I} - \\mathbf{ K\\_{k}}  \\mathbf{H\\_{k}}) \\mathbf{P\\_{k|k-1}}</span>\n",
    "\n",
    "\n",
    "\"\"\""
   ]
  },
  {
   "cell_type": "code",
   "execution_count": 4,
   "metadata": {},
   "outputs": [
    {
     "data": {
      "text/plain": [
       "'\\n** Variable Definitions **\\n \\nmathbf{hat{x}}  -   state vector\\n\\nmathbf{F} - state transition matrix\\n\\nmathbf{P}  -   error covariance matrix\\n\\nmathbf{Q}  -  process noise covariance matrix\\n\\nmathbf{R}  -   measurement noise covariance matrix\\n\\nmathbf{S}  -   intermediate matrix for calculating Kalman gain\\n\\nmathbf{K}  -   Kalman gain\\n\\nmathbf{\\tilde{y}}  -   difference between predicted state and measured state\\n\\nmathbf{z}  -   measurement vector (lidar data or radar data, etc.)\\n\\nmathbf{I}  -   Identity matrix\\n\\n**Prediction Step Equations**\\n\\nPREDICT STATE VECTOR AND ERROR COVARIANCE MATRIX\\n\\nmathbf{hat{x}_{k|k-1}} = mathbf{F_{k}} mathbf{hat{x}_{k-1|k-1}}  \\n\\nmathbf{P_{k|k-1}} = mathbf{F_{k}} mathbf{P_{k-1|k-1}} mathbf{F_{k}{^T}}  + mathbf{Q_{k}}\\n\\n**Update Step Equations**\\n\\nKALMAN GAIN\\n\\nmathbf{S_{k}} = mathbf{H_{k}} mathbf{P_{k|k-1}} mathbf{H_{k}{^T}} + \\nmathbf{R_{k}}\\n\\nmathbf{K_{k}} = mathbf{P_{k|k-1}} mathbf{H_{k}{^T}} mathbf{S_{k}}^{-1}\\n\\nUPDATE STATE VECTOR AND ERROR COVARIANCE MATRIX\\n\\nmathbf{\\tilde{y_{k}}} = mathbf{z_{k}} - mathbf{H_{k}} mathbf{hat{x}_{k|k-1}} \\n\\nmathbf{hat{x}_{k|k}} = mathbf{hat{x}_{k|k-1}} +mathbf{ K_{k}} mathbf{\\tilde{y_{k}}}\\n\\nmathbf{P_{k|k}} = (mathbf{I} - mathbf{ K_{k}}  mathbf{H_{k}}) mathbf{P_{k|k-1}}\\n\\n\\n'"
      ]
     },
     "execution_count": 4,
     "metadata": {},
     "output_type": "execute_result"
    }
   ],
   "source": [
    "raw = raw.replace('<span class=\"mathquill\">',\"\")\n",
    "raw = raw.replace('</span>', '')\n",
    "raw = raw.replace('\\\\', \"\")\n",
    "raw"
   ]
  },
  {
   "cell_type": "code",
   "execution_count": 5,
   "metadata": {},
   "outputs": [
    {
     "name": "stdout",
     "output_type": "stream",
     "text": [
      "\n",
      "** Variable Definitions **\n",
      " \n",
      "mathbf{hat{x}}  -   state vector\n",
      "\n",
      "mathbf{F} - state transition matrix\n",
      "\n",
      "mathbf{P}  -   error covariance matrix\n",
      "\n",
      "mathbf{Q}  -  process noise covariance matrix\n",
      "\n",
      "mathbf{R}  -   measurement noise covariance matrix\n",
      "\n",
      "mathbf{S}  -   intermediate matrix for calculating Kalman gain\n",
      "\n",
      "mathbf{K}  -   Kalman gain\n",
      "\n",
      "mathbf{\tilde{y}}  -   difference between predicted state and measured state\n",
      "\n",
      "mathbf{z}  -   measurement vector (lidar data or radar data, etc.)\n",
      "\n",
      "mathbf{I}  -   Identity matrix\n",
      "\n",
      "**Prediction Step Equations**\n",
      "\n",
      "PREDICT STATE VECTOR AND ERROR COVARIANCE MATRIX\n",
      "\n",
      "mathbf{hat{x}_{k|k-1}} = mathbf{F_{k}} mathbf{hat{x}_{k-1|k-1}}  \n",
      "\n",
      "mathbf{P_{k|k-1}} = mathbf{F_{k}} mathbf{P_{k-1|k-1}} mathbf{F_{k}{^T}}  + mathbf{Q_{k}}\n",
      "\n",
      "**Update Step Equations**\n",
      "\n",
      "KALMAN GAIN\n",
      "\n",
      "mathbf{S_{k}} = mathbf{H_{k}} mathbf{P_{k|k-1}} mathbf{H_{k}{^T}} + \n",
      "mathbf{R_{k}}\n",
      "\n",
      "mathbf{K_{k}} = mathbf{P_{k|k-1}} mathbf{H_{k}{^T}} mathbf{S_{k}}^{-1}\n",
      "\n",
      "UPDATE STATE VECTOR AND ERROR COVARIANCE MATRIX\n",
      "\n",
      "mathbf{\tilde{y_{k}}} = mathbf{z_{k}} - mathbf{H_{k}} mathbf{hat{x}_{k|k-1}} \n",
      "\n",
      "mathbf{hat{x}_{k|k}} = mathbf{hat{x}_{k|k-1}} +mathbf{ K_{k}} mathbf{\tilde{y_{k}}}\n",
      "\n",
      "mathbf{P_{k|k}} = (mathbf{I} - mathbf{ K_{k}}  mathbf{H_{k}}) mathbf{P_{k|k-1}}\n",
      "\n",
      "\n",
      "\n"
     ]
    }
   ],
   "source": [
    "print(raw)"
   ]
  },
  {
   "cell_type": "markdown",
   "metadata": {},
   "source": [
    "** Variable Definitions **\n",
    " \n",
    "mathbf{hat{x}}  -   state vector\n",
    "\n",
    "mathbf{F} - state transition matrix\n",
    "\n",
    "mathbf{P}  -   error covariance matrix\n",
    "\n",
    "mathbf{Q}  -  process noise covariance matrix\n",
    "\n",
    "mathbf{R}  -   measurement noise covariance matrix\n",
    "\n",
    "mathbf{S}  -   intermediate matrix for calculating Kalman gain\n",
    "\n",
    "mathbf{K}  -   Kalman gain\n",
    "\n",
    "mathbf{\tilde{y}}  -   difference between predicted state and measured state\n",
    "\n",
    "mathbf{z}  -   measurement vector (lidar data or radar data, etc.)\n",
    "\n",
    "mathbf{I}  -   Identity matrix\n",
    "\n",
    "**Prediction Step Equations**\n",
    "\n",
    "PREDICT STATE VECTOR AND ERROR COVARIANCE MATRIX\n",
    "\n",
    "mathbf{hat{x}_{k|k-1}} = mathbf{F_{k}} mathbf{hat{x}_{k-1|k-1}}  \n",
    "\n",
    "mathbf{P_{k|k-1}} = mathbf{F_{k}} mathbf{P_{k-1|k-1}} mathbf{F_{k}{^T}}  + mathbf{Q_{k}}\n",
    "\n",
    "**Update Step Equations**\n",
    "\n",
    "KALMAN GAIN\n",
    "\n",
    "mathbf{S_{k}} = mathbf{H_{k}} mathbf{P_{k|k-1}} mathbf{H_{k}{^T}} + \n",
    "mathbf{R_{k}}\n",
    "\n",
    "mathbf{K_{k}} = mathbf{P_{k|k-1}} mathbf{H_{k}{^T}} mathbf{S_{k}}^{-1}\n",
    "\n",
    "UPDATE STATE VECTOR AND ERROR COVARIANCE MATRIX\n",
    "\n",
    "mathbf{\tilde{y_{k}}} = mathbf{z_{k}} - mathbf{H_{k}} mathbf{hat{x}_{k|k-1}} \n",
    "\n",
    "mathbf{hat{x}_{k|k}} = mathbf{hat{x}_{k|k-1}} +mathbf{ K_{k}} mathbf{\tilde{y_{k}}}\n",
    "\n",
    "mathbf{P_{k|k}} = (mathbf{I} - mathbf{ K_{k}}  mathbf{H_{k}}) mathbf{P_{k|k-1}}\n"
   ]
  },
  {
   "cell_type": "code",
   "execution_count": null,
   "metadata": {
    "collapsed": true
   },
   "outputs": [],
   "source": []
  }
 ],
 "metadata": {
  "kernelspec": {
   "display_name": "Python 3",
   "language": "python",
   "name": "python3"
  },
  "language_info": {
   "codemirror_mode": {
    "name": "ipython",
    "version": 3
   },
   "file_extension": ".py",
   "mimetype": "text/x-python",
   "name": "python",
   "nbconvert_exporter": "python",
   "pygments_lexer": "ipython3",
   "version": "3.6.3"
  }
 },
 "nbformat": 4,
 "nbformat_minor": 2
}
