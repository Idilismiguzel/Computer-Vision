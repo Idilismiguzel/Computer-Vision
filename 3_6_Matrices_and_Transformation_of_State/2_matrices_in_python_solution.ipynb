{
 "cells": [
  {
   "cell_type": "markdown",
   "metadata": {},
   "source": [
    "## Coding Matrices (SOLUTION)\n",
    "\n",
    "Solutions to the previous exercises for your reference.\n",
    "\n",
    "### Vectors"
   ]
  },
  {
   "cell_type": "code",
   "execution_count": 2,
   "metadata": {},
   "outputs": [
    {
     "data": {
      "text/plain": [
       "[5, 10, 2, 6, 1]"
      ]
     },
     "execution_count": 2,
     "metadata": {},
     "output_type": "execute_result"
    }
   ],
   "source": [
    "### TODO: Assign the vector <5, 10, 2, 6, 1> to the variable v\n",
    "v = [5, 10, 2, 6, 1]\n",
    "v"
   ]
  },
  {
   "cell_type": "markdown",
   "metadata": {},
   "source": [
    "The v variable contains a Python list. This list could also be thought of as a 1x5 matrix with 1 row and 5 columns. How would you represent this list as a matrix?"
   ]
  },
  {
   "cell_type": "code",
   "execution_count": 3,
   "metadata": {},
   "outputs": [
    {
     "data": {
      "text/plain": [
       "[[5, 10, 2, 6, 1]]"
      ]
     },
     "execution_count": 3,
     "metadata": {},
     "output_type": "execute_result"
    }
   ],
   "source": [
    "### TODO: Assign the vector <5, 10, 2, 6, 1> to the variable mv\n",
    "### The difference between a vector and a matrix in Python is that\n",
    "### a matrix is a list of lists.\n",
    "\n",
    "### Hint: See the last quiz on the previous page\n",
    "\n",
    "mv = [\n",
    "    [5, 10, 2, 6, 1]\n",
    "]\n",
    "mv"
   ]
  },
  {
   "cell_type": "markdown",
   "metadata": {},
   "source": [
    "How would you represent this vector in its vertical form with 5 rows and 1 column? When defining matrices in Python, each row is a list. So in this case, you have 5 rows and thus will need 5 lists.\n",
    "\n",
    "As an example, this is what the vector $$<5, 7>$$ would look like as a 1x2 matrix in Python: \n",
    "```python\n",
    "matrix1by2 = [\n",
    "    [5, 7]\n",
    "]\n",
    "```\n",
    "\n",
    "And here is what the same vector would look like as a 2x1 matrix:\n",
    "```python\n",
    "matrix2by1 = [\n",
    "    [5], \n",
    "    [7]\n",
    "]\n",
    "```"
   ]
  },
  {
   "cell_type": "code",
   "execution_count": 4,
   "metadata": {},
   "outputs": [
    {
     "data": {
      "text/plain": [
       "[[5], [10], [2], [6], [1]]"
      ]
     },
     "execution_count": 4,
     "metadata": {},
     "output_type": "execute_result"
    }
   ],
   "source": [
    "### TODO: Assign the vector <5, 10, 2, 6, 1> to the variable vT\n",
    "### vT is a 5x1 matrix\n",
    "vT = [\n",
    "    [5],\n",
    "    [10],\n",
    "    [2],\n",
    "    [6],\n",
    "    [1]\n",
    "]\n",
    "vT"
   ]
  },
  {
   "cell_type": "markdown",
   "metadata": {},
   "source": [
    "### Assigning Matrices to Variables"
   ]
  },
  {
   "cell_type": "code",
   "execution_count": 5,
   "metadata": {},
   "outputs": [
    {
     "data": {
      "text/plain": [
       "[[8, 7, 1, 2, 3], [1, 5, 2, 9, 0], [8, 2, 2, 4, 1]]"
      ]
     },
     "execution_count": 5,
     "metadata": {},
     "output_type": "execute_result"
    }
   ],
   "source": [
    "### TODO: Assign the following matrix to the variable m\n",
    "### 8 7 1 2 3\n",
    "### 1 5 2 9 0\n",
    "### 8 2 2 4 1\n",
    "\n",
    "m = [\n",
    "    [8, 7, 1, 2, 3],\n",
    "    [1, 5, 2, 9, 0],\n",
    "    [8, 2, 2, 4, 1]\n",
    "]\n",
    "m"
   ]
  },
  {
   "cell_type": "markdown",
   "metadata": {},
   "source": [
    "### Accessing Matrix Values"
   ]
  },
  {
   "cell_type": "code",
   "execution_count": 6,
   "metadata": {},
   "outputs": [
    {
     "data": {
      "text/plain": [
       "[[8, 7, 1, 2, 3], [1, 5, 2, 9, 5], [8, 2, 2, 4, 1]]"
      ]
     },
     "execution_count": 6,
     "metadata": {},
     "output_type": "execute_result"
    }
   ],
   "source": [
    "### TODO: In matrix m, change the value \n",
    "###       in the second row last column from 0 to 5\n",
    "### Hint: You do not need to rewrite the entire matrix\n",
    "m[1][4] = 5\n",
    "m"
   ]
  },
  {
   "cell_type": "markdown",
   "metadata": {},
   "source": [
    "### Looping through Matrices to do Math\n",
    "\n",
    "Coding mathematical operations with matrices can be tricky. Because matrices are lists of lists, you will need to use a for loop inside another for loop. The outside for loop iterates over the rows and the inside for loop iterates over the columns.\n",
    "\n",
    "\n",
    "Here is some pseudo code\n",
    "```python\n",
    "for i in number of rows:\n",
    "    for j in number of columns:\n",
    "         mymatrix[i][j]\n",
    "```\n",
    "\n",
    "To figure out how many times to loop over the matrix, you need to know the number of rows and number of columns. \n",
    "\n",
    "\n",
    "If you have a variable with a matrix in it, how could you figure out the number of rows? How could you figure out the number of columns? The [len](https://docs.python.org/2/library/functions.html#len) function in Python might be helpful."
   ]
  },
  {
   "cell_type": "markdown",
   "metadata": {},
   "source": [
    "### Scalar Multiplication"
   ]
  },
  {
   "cell_type": "code",
   "execution_count": 7,
   "metadata": {},
   "outputs": [
    {
     "data": {
      "text/plain": [
       "[[40, 35, 5, 10, 15], [5, 25, 10, 45, 25], [40, 10, 10, 20, 5]]"
      ]
     },
     "execution_count": 7,
     "metadata": {},
     "output_type": "execute_result"
    }
   ],
   "source": [
    "### TODO: Use for loops to multiply each matrix element by 5\n",
    "###       Store the answer in the r variable. This is called scalar\n",
    "###       multiplication\n",
    "###\n",
    "### HINT: First write a for loop that iterates through the rows\n",
    "###       one row at a time\n",
    "###\n",
    "###       Then write another for loop within the for loop that\n",
    "###       iterates through the columns\n",
    "###\n",
    "###       If you used the variable i to represent rows and j\n",
    "###       to represent columns, then m[i][j] would give you\n",
    "###       access to each element in the matrix\n",
    "###\n",
    "###       Because r is an empty list, you cannot directly assign\n",
    "###       a value like r[i][j] = m[i][j]. You might have to\n",
    "###       work on one row at a time and then use r.append(row).\n",
    "r = []\n",
    "for i in range(len(m)):\n",
    "    row = m[i]\n",
    "    new_row = [] # empty row for now\n",
    "    for j in range(len(row)):\n",
    "        m_ij = m[i][j]\n",
    "        r_ij = 5 * m_ij\n",
    "        new_row.append(r_ij)\n",
    "    r.append(new_row)\n",
    "r"
   ]
  },
  {
   "cell_type": "markdown",
   "metadata": {},
   "source": [
    "### Printing Out a Matrix"
   ]
  },
  {
   "cell_type": "code",
   "execution_count": 8,
   "metadata": {},
   "outputs": [
    {
     "name": "stdout",
     "output_type": "stream",
     "text": [
      "8 \t7 \t1 \t2 \t3 \t\n",
      "\n",
      "1 \t5 \t2 \t9 \t5 \t\n",
      "\n",
      "8 \t2 \t2 \t4 \t1 \t\n",
      "\n"
     ]
    }
   ],
   "source": [
    "### TODO: Write a function called matrix_print() \n",
    "###       that prints out a matrix in\n",
    "###       a way that is easy to read.\n",
    "###       Each element in a row should be separated by a tab\n",
    "###       And each row should have its own line\n",
    "###       You can test our your results with the m matrix\n",
    "\n",
    "### HINT: You can use a for loop within a for loop\n",
    "### In Python, the print() function will be useful\n",
    "### print(5, '\\t', end = '') will print out the integer 5, \n",
    "###    then add a tab after the 5. The end = '' makes sure that\n",
    "###    the print function does not print out a new line if you do\n",
    "###    not want a new line.\n",
    "\n",
    "### Your output should look like this\n",
    "### 8   7   1   2   3    \n",
    "### 1   5   2   9   5 \n",
    "### 8   2   2   4   1\n",
    "\n",
    "def matrix_print(matrix):\n",
    "    for i in range(len(matrix)):\n",
    "        for j in range(len(matrix[0])):\n",
    "            m_ij = matrix[i][j]\n",
    "            print(m_ij, '\\t', end=\"\")\n",
    "        print('\\n') # prints a new line\n",
    "    return\n",
    "\n",
    "m = [\n",
    "    [8, 7, 1, 2, 3],\n",
    "    [1, 5, 2, 9, 5],\n",
    "    [8, 2, 2, 4, 1]\n",
    "]\n",
    "\n",
    "matrix_print(m)"
   ]
  },
  {
   "cell_type": "markdown",
   "metadata": {},
   "source": [
    "### Test Your Results"
   ]
  },
  {
   "cell_type": "code",
   "execution_count": 9,
   "metadata": {
    "collapsed": true
   },
   "outputs": [],
   "source": [
    "### You can run these tests to see if you have the expected\n",
    "### results. If everything is correct, this cell has no output\n",
    "\n",
    "assert v == [5, 10, 2, 6, 1]\n",
    "assert mv == [\n",
    "    [5, 10, 2, 6, 1]\n",
    "]\n",
    "\n",
    "assert vT == [\n",
    "    [5], \n",
    "    [10], \n",
    "    [2], \n",
    "    [6], \n",
    "    [1]]\n",
    "\n",
    "assert m == [\n",
    "    [8, 7, 1, 2, 3], \n",
    "    [1, 5, 2, 9, 5], \n",
    "    [8, 2, 2, 4, 1]\n",
    "]\n",
    "\n",
    "assert r == [\n",
    "    [40, 35, 5, 10, 15], \n",
    "    [5, 25, 10, 45, 25], \n",
    "    [40, 10, 10, 20, 5]\n",
    "]"
   ]
  },
  {
   "cell_type": "markdown",
   "metadata": {},
   "source": [
    "### Print Out Your Results"
   ]
  },
  {
   "cell_type": "code",
   "execution_count": 10,
   "metadata": {},
   "outputs": [
    {
     "name": "stdout",
     "output_type": "stream",
     "text": [
      "[5, 10, 2, 6, 1]\n",
      "[[5, 10, 2, 6, 1]]\n",
      "[[5], [10], [2], [6], [1]]\n",
      "[[8, 7, 1, 2, 3], [1, 5, 2, 9, 5], [8, 2, 2, 4, 1]]\n",
      "[[40, 35, 5, 10, 15], [5, 25, 10, 45, 25], [40, 10, 10, 20, 5]]\n"
     ]
    }
   ],
   "source": [
    "### Run this cell to print out your answers\n",
    "print(v)\n",
    "print(mv)\n",
    "print(vT)\n",
    "print(m)\n",
    "print(r)"
   ]
  }
 ],
 "metadata": {
  "kernelspec": {
   "display_name": "Python 3",
   "language": "python",
   "name": "python3"
  },
  "language_info": {
   "codemirror_mode": {
    "name": "ipython",
    "version": 3
   },
   "file_extension": ".py",
   "mimetype": "text/x-python",
   "name": "python",
   "nbconvert_exporter": "python",
   "pygments_lexer": "ipython3",
   "version": "3.6.3"
  }
 },
 "nbformat": 4,
 "nbformat_minor": 2
}
