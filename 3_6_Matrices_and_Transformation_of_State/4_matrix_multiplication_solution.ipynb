{
 "cells": [
  {
   "cell_type": "markdown",
   "metadata": {},
   "source": [
    "# Matrix Multiplication Solution\n",
    "\n",
    "Here is an example of the code you could write for matrix multiplication."
   ]
  },
  {
   "cell_type": "code",
   "execution_count": 1,
   "metadata": {},
   "outputs": [],
   "source": [
    "def get_row(matrix, row):\n",
    "    return matrix[row]"
   ]
  },
  {
   "cell_type": "markdown",
   "metadata": {},
   "source": [
    "### get_column()"
   ]
  },
  {
   "cell_type": "code",
   "execution_count": 2,
   "metadata": {},
   "outputs": [],
   "source": [
    "# Receives a matrix and a column number.\n",
    "# The output should be the column in the form of a list\n",
    "def get_column(matrix, column_number):\n",
    "    column = []\n",
    "    for r in range(len(matrix)):\n",
    "        column.append(matrix[r][column_number])\n",
    "\n",
    "    return column"
   ]
  },
  {
   "cell_type": "code",
   "execution_count": 3,
   "metadata": {},
   "outputs": [],
   "source": [
    "# Run this code to test your get_column function\n",
    "assert get_column([[1, 2, 4], \n",
    "                   [7, 8, 1], \n",
    "                   [5, 2, 1]], 1) == [2, 8, 2]\n",
    "\n",
    "assert get_column([[5]], 0) == [5]"
   ]
  },
  {
   "cell_type": "markdown",
   "metadata": {},
   "source": [
    "### dot_product()"
   ]
  },
  {
   "cell_type": "code",
   "execution_count": 4,
   "metadata": {},
   "outputs": [],
   "source": [
    "# Has two vectors as inputs and outputs the dot product of the \n",
    "# two vectors. First, it does element-wise\n",
    "# multiplication and then sum the results. \n",
    "\n",
    "def dot_product(vector_one, vector_two):\n",
    "    result = 0\n",
    "    \n",
    "    for i in range(len(vector_one)):\n",
    "        result += vector_one[i] * vector_two[i]\n",
    "\n",
    "    return result"
   ]
  },
  {
   "cell_type": "code",
   "execution_count": 5,
   "metadata": {},
   "outputs": [],
   "source": [
    "# Run this cell to test your results\n",
    "\n",
    "assert dot_product([4, 5, 1], [2, 1, 5]) == 18\n",
    "assert dot_product([6], [7]) == 42"
   ]
  },
  {
   "cell_type": "markdown",
   "metadata": {},
   "source": [
    "### Matrix Multiplication"
   ]
  },
  {
   "cell_type": "code",
   "execution_count": 6,
   "metadata": {},
   "outputs": [],
   "source": [
    "# Takes two matrices,multiplies them together and then returns\n",
    "# the results.\n",
    "def matrix_multiplication(matrixA, matrixB):\n",
    "    \n",
    "    # Store the number of rows in A and the number of columns in B.\n",
    "    # This will be the size of the output matrix\n",
    "    m_rows = len(matrixA)\n",
    "    p_columns = len(matrixB[0])\n",
    "    \n",
    "    # empty list that will hold the product of AxB\n",
    "    result = []\n",
    "\n",
    "    \n",
    "    # For loop within a for loop. The outside for loop will \n",
    "    # iterate through m_rows. The inside for loop will iterate \n",
    "    # through p_columns.\n",
    "    for r in range(m_rows):\n",
    "        # Accumulate the values of a row (reset each loop)\n",
    "        row_result = []\n",
    "        # Grab current A row\n",
    "        rowA = get_row(matrixA, r)\n",
    "        \n",
    "        for c in range(p_columns):\n",
    "            # Grab current B column\n",
    "            colB = get_column(matrixB, c)\n",
    "            # Calculate the dot product of the A row and the B column\n",
    "            dot_prod = dot_product(rowA, colB)\n",
    "            # And append to row_result\n",
    "            row_result.append(dot_prod)\n",
    "    \n",
    "        # Add the row_result to the result matrix\n",
    "        result.append(row_result)\n",
    "\n",
    "    return result"
   ]
  },
  {
   "cell_type": "code",
   "execution_count": 7,
   "metadata": {},
   "outputs": [],
   "source": [
    "# Run this code cell to test your results\n",
    "assert matrix_multiplication([[5], [2]], [[5, 1]]) == [[25, 5], [10, 2]]\n",
    "assert matrix_multiplication([[5, 1]], [[5], [2]]) == [[27]]\n",
    "assert matrix_multiplication([[4]], [[3]]) == [[12]]\n",
    "assert matrix_multiplication([[2, 1, 8, 2, 1], [5, 6, 4, 2, 1]], [[1, 7, 2], [2, 6, 3], [3, 1, 1], [1, 20, 1], [7, 4, 16]]) == [[37, 72, 33], [38, 119, 50]]"
   ]
  }
 ],
 "metadata": {
  "kernelspec": {
   "display_name": "Python 3",
   "language": "python",
   "name": "python3"
  },
  "language_info": {
   "codemirror_mode": {
    "name": "ipython",
    "version": 3
   },
   "file_extension": ".py",
   "mimetype": "text/x-python",
   "name": "python",
   "nbconvert_exporter": "python",
   "pygments_lexer": "ipython3",
   "version": "3.6.3"
  }
 },
 "nbformat": 4,
 "nbformat_minor": 2
}
