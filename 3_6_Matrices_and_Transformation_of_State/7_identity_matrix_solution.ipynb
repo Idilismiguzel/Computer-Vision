{
 "cells": [
  {
   "cell_type": "markdown",
   "metadata": {
    "collapsed": true
   },
   "source": [
    "# Identity Matrix Solution\n",
    "\n",
    "Below is an example solution for creating an identity matrix, as well as attempting matrix multiplication with one."
   ]
  },
  {
   "cell_type": "code",
   "execution_count": 1,
   "metadata": {},
   "outputs": [],
   "source": [
    "def identity_matrix(n):\n",
    "    '''\n",
    "    Creates an identity matrix of size n x n.\n",
    "\n",
    "    INPUT\n",
    "    * n - size of the Identity matrix\n",
    "\n",
    "    OUPUT\n",
    "    * identity matrix as a list of lists\n",
    "    '''\n",
    "    identity = []\n",
    "    \n",
    "    for r in range(n):\n",
    "        new_row = []\n",
    "        for c in range(n):\n",
    "            if r == c: # Diagonals are only ones\n",
    "                new_row.append(1)\n",
    "            else: # Everything else is zero\n",
    "                new_row.append(0)\n",
    "        identity.append(new_row)\n",
    "    \n",
    "    return identity"
   ]
  },
  {
   "cell_type": "code",
   "execution_count": 2,
   "metadata": {},
   "outputs": [],
   "source": [
    "# Run this cell to see if your answers are as expected\n",
    "\n",
    "assert identity_matrix(1) == [[1]]\n",
    "\n",
    "assert identity_matrix(2) == [[1, 0], \n",
    "                             [0, 1]]\n",
    "\n",
    "assert identity_matrix(3) == [[1, 0, 0],\n",
    "                             [0, 1, 0],\n",
    "                             [0, 0, 1]]\n",
    "\n",
    "assert identity_matrix(4) == [[1, 0, 0, 0],\n",
    "                             [0, 1, 0, 0],\n",
    "                             [0, 0, 1, 0],\n",
    "                             [0, 0, 0, 1]]"
   ]
  },
  {
   "cell_type": "markdown",
   "metadata": {},
   "source": [
    "## Multiplication with the Identity Matrix"
   ]
  },
  {
   "cell_type": "code",
   "execution_count": 3,
   "metadata": {},
   "outputs": [],
   "source": [
    "# Copied over transpose, dot_product and matrix_multiplication\n",
    "# created in previous exercises\n",
    "\n",
    "def transpose(matrix):\n",
    "    matrix_transpose = []\n",
    "    for c in range(len(matrix[0])):\n",
    "        new_row = []\n",
    "        for r in range(len(matrix)):\n",
    "            new_row.append(matrix[r][c])\n",
    "        matrix_transpose.append(new_row)\n",
    "    \n",
    "    return matrix_transpose\n",
    "\n",
    "def dot_product(vectorA, vectorB):\n",
    "    result = 0\n",
    "    \n",
    "    for i in range(len(vectorA)):\n",
    "        result += vectorA[i] * vectorB[i]\n",
    "        \n",
    "    return result\n",
    "\n",
    "def matrix_multiplication(matrixA, matrixB):\n",
    "    product = []\n",
    "\n",
    "    transposeB = transpose(matrixB)\n",
    "\n",
    "    for r1 in range(len(matrixA)):\n",
    "        new_row = []\n",
    "        for r2 in range(len(transposeB)):\n",
    "            dp = dot_product(matrixA[r1], transposeB[r2])\n",
    "            new_row.append(dp)\n",
    "        product.append(new_row)\n",
    "\n",
    "    return product"
   ]
  },
  {
   "cell_type": "code",
   "execution_count": 4,
   "metadata": {},
   "outputs": [],
   "source": [
    "# Run this cell to see if your results are as expected.\n",
    "\n",
    "m = [[5, 9, 2, 4],\n",
    "     [3, 8, 5, 6],\n",
    "     [1, 0, 0, 15]]\n",
    "\n",
    "assert matrix_multiplication(m, identity_matrix(4)) == m\n",
    "assert matrix_multiplication(identity_matrix(3), m) == m"
   ]
  }
 ],
 "metadata": {
  "kernelspec": {
   "display_name": "Python 3",
   "language": "python",
   "name": "python3"
  },
  "language_info": {
   "codemirror_mode": {
    "name": "ipython",
    "version": 3
   },
   "file_extension": ".py",
   "mimetype": "text/x-python",
   "name": "python",
   "nbconvert_exporter": "python",
   "pygments_lexer": "ipython3",
   "version": "3.6.3"
  }
 },
 "nbformat": 4,
 "nbformat_minor": 2
}
