{
 "cells": [
  {
   "cell_type": "markdown",
   "metadata": {},
   "source": [
    "# Transpose of a Matrix Solution\n",
    "\n",
    "Here is an example solution to coding the transpose, as well as re-writing the matrix multiplication function to take advantage of the transpose."
   ]
  },
  {
   "cell_type": "code",
   "execution_count": 1,
   "metadata": {},
   "outputs": [],
   "source": [
    "# Takes in a matrix and outputs the transpose of the matrix\n",
    "def transpose(matrix):\n",
    "    matrix_transpose = []\n",
    "    # Loop through columns on outside loop\n",
    "    for c in range(len(matrix[0])):\n",
    "        new_row = []\n",
    "        # Loop through columns on inner loop\n",
    "        for r in range(len(matrix)):\n",
    "            # Column values will be filled by what were each row before\n",
    "            new_row.append(matrix[r][c])\n",
    "        matrix_transpose.append(new_row)\n",
    "    \n",
    "    return matrix_transpose"
   ]
  },
  {
   "cell_type": "code",
   "execution_count": 2,
   "metadata": {},
   "outputs": [],
   "source": [
    "# Run the code in the cell below to test the implementation.\n",
    "assert transpose([[5, 4, 1, 7], [2, 1, 3, 5]]) == [[5, 2], [4, 1], [1, 3], [7, 5]]\n",
    "assert transpose([[5]]) == [[5]]\n",
    "assert transpose([[5, 3, 2], [7, 1, 4], [1, 1, 2], [8, 9, 1]]) == [[5, 7, 1, 8], [3, 1, 1, 9], [2, 4, 2, 1]]"
   ]
  },
  {
   "cell_type": "markdown",
   "metadata": {},
   "source": [
    "### Matrix Multiplication Redux\n",
    "\n",
    "The below uses the transpose function to make the previous matrix multiplication code more straightforward."
   ]
  },
  {
   "cell_type": "code",
   "execution_count": 3,
   "metadata": {},
   "outputs": [],
   "source": [
    "# Copy of the previously made dot_product() function\n",
    "def dot_product(vectorA, vectorB):\n",
    "    result = 0\n",
    "    \n",
    "    for i in range(len(vectorA)):\n",
    "        result += vectorA[i] * vectorB[i]\n",
    "        \n",
    "    return result\n",
    "\n",
    "# Takes in two matrices and outputs the product of the two matrices\n",
    "def matrix_multiplication(matrixA, matrixB):\n",
    "    product = []\n",
    "\n",
    "    # Take the transpose of matrixB and store the result\n",
    "    transposeB = transpose(matrixB)\n",
    "    \n",
    "    # Use a nested for loop to iterate through the rows\n",
    "    # of matrix A and the rows of the tranpose of matrix B\n",
    "    for r1 in range(len(matrixA)):\n",
    "        new_row = []\n",
    "        for r2 in range(len(transposeB)):\n",
    "            # Calculate the dot product between each row of matrix A\n",
    "            # with each row in the transpose of matrix B\n",
    "            dp = dot_product(matrixA[r1], transposeB[r2])\n",
    "            new_row.append(dp)\n",
    "        # Store the results in the product variable\n",
    "        product.append(new_row)\n",
    "\n",
    "    return product"
   ]
  },
  {
   "cell_type": "code",
   "execution_count": 4,
   "metadata": {},
   "outputs": [],
   "source": [
    "# Run the code in the cell below to test the implementation.\n",
    "\n",
    "assert matrix_multiplication([[5, 3, 1], \n",
    "                              [6, 2, 7]], \n",
    "                             [[4, 2], \n",
    "                              [8, 1], \n",
    "                              [7, 4]]) == [[51, 17], \n",
    "                                           [89, 42]]\n",
    "\n",
    "assert matrix_multiplication([[5]], [[4]]) == [[20]]\n",
    "\n",
    "assert matrix_multiplication([[2, 8, 1, 2, 9],\n",
    "                             [7, 9, 1, 10, 5],\n",
    "                             [8, 4, 11, 98, 2],\n",
    "                             [5, 5, 4, 4, 1]], \n",
    "                             [[4], \n",
    "                              [2], \n",
    "                              [17], \n",
    "                              [80], \n",
    "                              [2]]) == [[219], [873], [8071], [420]]\n",
    "\n",
    "\n",
    "assert matrix_multiplication([[2, 8, 1, 2, 9],\n",
    "                             [7, 9, 1, 10, 5],\n",
    "                             [8, 4, 11, 98, 2],\n",
    "                             [5, 5, 4, 4, 1]], \n",
    "                             [[4, 1, 2], \n",
    "                              [2, 3, 1], \n",
    "                              [17, 8, 1], \n",
    "                              [1, 3, 0], \n",
    "                              [2, 1, 4]]) == [[61, 49, 49], [83, 77, 44], [329, 404, 39], [104, 65, 23]]"
   ]
  }
 ],
 "metadata": {
  "kernelspec": {
   "display_name": "Python 3",
   "language": "python",
   "name": "python3"
  },
  "language_info": {
   "codemirror_mode": {
    "name": "ipython",
    "version": 3
   },
   "file_extension": ".py",
   "mimetype": "text/x-python",
   "name": "python",
   "nbconvert_exporter": "python",
   "pygments_lexer": "ipython3",
   "version": "3.6.3"
  }
 },
 "nbformat": 4,
 "nbformat_minor": 2
}
