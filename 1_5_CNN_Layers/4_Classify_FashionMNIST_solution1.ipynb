{
  "nbformat": 4,
  "nbformat_minor": 0,
  "metadata": {
    "colab": {
      "name": "4. Classify FashionMNIST, solution1.ipynb",
      "provenance": []
    },
    "kernelspec": {
      "name": "python3",
      "display_name": "Python 3"
    },
    "accelerator": "GPU",
    "widgets": {
      "application/vnd.jupyter.widget-state+json": {
        "9ad67536b7264f04bfa7fc680c257d2a": {
          "model_module": "@jupyter-widgets/controls",
          "model_name": "HBoxModel",
          "state": {
            "_view_name": "HBoxView",
            "_dom_classes": [],
            "_model_name": "HBoxModel",
            "_view_module": "@jupyter-widgets/controls",
            "_model_module_version": "1.5.0",
            "_view_count": null,
            "_view_module_version": "1.5.0",
            "box_style": "",
            "layout": "IPY_MODEL_8271b8ae071b40a0a26e6e0228c089b7",
            "_model_module": "@jupyter-widgets/controls",
            "children": [
              "IPY_MODEL_3134b08a70c84ed88dddef636bd48c55",
              "IPY_MODEL_60824e6c644846ce89829e2fc023b934"
            ]
          }
        },
        "8271b8ae071b40a0a26e6e0228c089b7": {
          "model_module": "@jupyter-widgets/base",
          "model_name": "LayoutModel",
          "state": {
            "_view_name": "LayoutView",
            "grid_template_rows": null,
            "right": null,
            "justify_content": null,
            "_view_module": "@jupyter-widgets/base",
            "overflow": null,
            "_model_module_version": "1.2.0",
            "_view_count": null,
            "flex_flow": null,
            "width": null,
            "min_width": null,
            "border": null,
            "align_items": null,
            "bottom": null,
            "_model_module": "@jupyter-widgets/base",
            "top": null,
            "grid_column": null,
            "overflow_y": null,
            "overflow_x": null,
            "grid_auto_flow": null,
            "grid_area": null,
            "grid_template_columns": null,
            "flex": null,
            "_model_name": "LayoutModel",
            "justify_items": null,
            "grid_row": null,
            "max_height": null,
            "align_content": null,
            "visibility": null,
            "align_self": null,
            "height": null,
            "min_height": null,
            "padding": null,
            "grid_auto_rows": null,
            "grid_gap": null,
            "max_width": null,
            "order": null,
            "_view_module_version": "1.2.0",
            "grid_template_areas": null,
            "object_position": null,
            "object_fit": null,
            "grid_auto_columns": null,
            "margin": null,
            "display": null,
            "left": null
          }
        },
        "3134b08a70c84ed88dddef636bd48c55": {
          "model_module": "@jupyter-widgets/controls",
          "model_name": "FloatProgressModel",
          "state": {
            "_view_name": "ProgressView",
            "style": "IPY_MODEL_adf85271136146f786b2763ec4851eec",
            "_dom_classes": [],
            "description": "",
            "_model_name": "FloatProgressModel",
            "bar_style": "success",
            "max": 1,
            "_view_module": "@jupyter-widgets/controls",
            "_model_module_version": "1.5.0",
            "value": 1,
            "_view_count": null,
            "_view_module_version": "1.5.0",
            "orientation": "horizontal",
            "min": 0,
            "description_tooltip": null,
            "_model_module": "@jupyter-widgets/controls",
            "layout": "IPY_MODEL_3f818ff9be2d4381b3170893aa18f4dc"
          }
        },
        "60824e6c644846ce89829e2fc023b934": {
          "model_module": "@jupyter-widgets/controls",
          "model_name": "HTMLModel",
          "state": {
            "_view_name": "HTMLView",
            "style": "IPY_MODEL_8298ffe5144643fc8083f30c0f441930",
            "_dom_classes": [],
            "description": "",
            "_model_name": "HTMLModel",
            "placeholder": "​",
            "_view_module": "@jupyter-widgets/controls",
            "_model_module_version": "1.5.0",
            "value": " 26427392/? [00:02&lt;00:00, 11326800.96it/s]",
            "_view_count": null,
            "_view_module_version": "1.5.0",
            "description_tooltip": null,
            "_model_module": "@jupyter-widgets/controls",
            "layout": "IPY_MODEL_0517fe7460c8490e96738441b7f934c5"
          }
        },
        "adf85271136146f786b2763ec4851eec": {
          "model_module": "@jupyter-widgets/controls",
          "model_name": "ProgressStyleModel",
          "state": {
            "_view_name": "StyleView",
            "_model_name": "ProgressStyleModel",
            "description_width": "initial",
            "_view_module": "@jupyter-widgets/base",
            "_model_module_version": "1.5.0",
            "_view_count": null,
            "_view_module_version": "1.2.0",
            "bar_color": null,
            "_model_module": "@jupyter-widgets/controls"
          }
        },
        "3f818ff9be2d4381b3170893aa18f4dc": {
          "model_module": "@jupyter-widgets/base",
          "model_name": "LayoutModel",
          "state": {
            "_view_name": "LayoutView",
            "grid_template_rows": null,
            "right": null,
            "justify_content": null,
            "_view_module": "@jupyter-widgets/base",
            "overflow": null,
            "_model_module_version": "1.2.0",
            "_view_count": null,
            "flex_flow": null,
            "width": null,
            "min_width": null,
            "border": null,
            "align_items": null,
            "bottom": null,
            "_model_module": "@jupyter-widgets/base",
            "top": null,
            "grid_column": null,
            "overflow_y": null,
            "overflow_x": null,
            "grid_auto_flow": null,
            "grid_area": null,
            "grid_template_columns": null,
            "flex": null,
            "_model_name": "LayoutModel",
            "justify_items": null,
            "grid_row": null,
            "max_height": null,
            "align_content": null,
            "visibility": null,
            "align_self": null,
            "height": null,
            "min_height": null,
            "padding": null,
            "grid_auto_rows": null,
            "grid_gap": null,
            "max_width": null,
            "order": null,
            "_view_module_version": "1.2.0",
            "grid_template_areas": null,
            "object_position": null,
            "object_fit": null,
            "grid_auto_columns": null,
            "margin": null,
            "display": null,
            "left": null
          }
        },
        "8298ffe5144643fc8083f30c0f441930": {
          "model_module": "@jupyter-widgets/controls",
          "model_name": "DescriptionStyleModel",
          "state": {
            "_view_name": "StyleView",
            "_model_name": "DescriptionStyleModel",
            "description_width": "",
            "_view_module": "@jupyter-widgets/base",
            "_model_module_version": "1.5.0",
            "_view_count": null,
            "_view_module_version": "1.2.0",
            "_model_module": "@jupyter-widgets/controls"
          }
        },
        "0517fe7460c8490e96738441b7f934c5": {
          "model_module": "@jupyter-widgets/base",
          "model_name": "LayoutModel",
          "state": {
            "_view_name": "LayoutView",
            "grid_template_rows": null,
            "right": null,
            "justify_content": null,
            "_view_module": "@jupyter-widgets/base",
            "overflow": null,
            "_model_module_version": "1.2.0",
            "_view_count": null,
            "flex_flow": null,
            "width": null,
            "min_width": null,
            "border": null,
            "align_items": null,
            "bottom": null,
            "_model_module": "@jupyter-widgets/base",
            "top": null,
            "grid_column": null,
            "overflow_y": null,
            "overflow_x": null,
            "grid_auto_flow": null,
            "grid_area": null,
            "grid_template_columns": null,
            "flex": null,
            "_model_name": "LayoutModel",
            "justify_items": null,
            "grid_row": null,
            "max_height": null,
            "align_content": null,
            "visibility": null,
            "align_self": null,
            "height": null,
            "min_height": null,
            "padding": null,
            "grid_auto_rows": null,
            "grid_gap": null,
            "max_width": null,
            "order": null,
            "_view_module_version": "1.2.0",
            "grid_template_areas": null,
            "object_position": null,
            "object_fit": null,
            "grid_auto_columns": null,
            "margin": null,
            "display": null,
            "left": null
          }
        },
        "511602d5717244c99825e957bcaba381": {
          "model_module": "@jupyter-widgets/controls",
          "model_name": "HBoxModel",
          "state": {
            "_view_name": "HBoxView",
            "_dom_classes": [],
            "_model_name": "HBoxModel",
            "_view_module": "@jupyter-widgets/controls",
            "_model_module_version": "1.5.0",
            "_view_count": null,
            "_view_module_version": "1.5.0",
            "box_style": "",
            "layout": "IPY_MODEL_780e4234823947449a6086e7d98394f4",
            "_model_module": "@jupyter-widgets/controls",
            "children": [
              "IPY_MODEL_cedd786458174b31a63b7c5710eccb94",
              "IPY_MODEL_914bf131692d42808aceca6c92086ef6"
            ]
          }
        },
        "780e4234823947449a6086e7d98394f4": {
          "model_module": "@jupyter-widgets/base",
          "model_name": "LayoutModel",
          "state": {
            "_view_name": "LayoutView",
            "grid_template_rows": null,
            "right": null,
            "justify_content": null,
            "_view_module": "@jupyter-widgets/base",
            "overflow": null,
            "_model_module_version": "1.2.0",
            "_view_count": null,
            "flex_flow": null,
            "width": null,
            "min_width": null,
            "border": null,
            "align_items": null,
            "bottom": null,
            "_model_module": "@jupyter-widgets/base",
            "top": null,
            "grid_column": null,
            "overflow_y": null,
            "overflow_x": null,
            "grid_auto_flow": null,
            "grid_area": null,
            "grid_template_columns": null,
            "flex": null,
            "_model_name": "LayoutModel",
            "justify_items": null,
            "grid_row": null,
            "max_height": null,
            "align_content": null,
            "visibility": null,
            "align_self": null,
            "height": null,
            "min_height": null,
            "padding": null,
            "grid_auto_rows": null,
            "grid_gap": null,
            "max_width": null,
            "order": null,
            "_view_module_version": "1.2.0",
            "grid_template_areas": null,
            "object_position": null,
            "object_fit": null,
            "grid_auto_columns": null,
            "margin": null,
            "display": null,
            "left": null
          }
        },
        "cedd786458174b31a63b7c5710eccb94": {
          "model_module": "@jupyter-widgets/controls",
          "model_name": "FloatProgressModel",
          "state": {
            "_view_name": "ProgressView",
            "style": "IPY_MODEL_d50eef7452cd4ccbb725d89b991ebbe5",
            "_dom_classes": [],
            "description": "",
            "_model_name": "FloatProgressModel",
            "bar_style": "success",
            "max": 1,
            "_view_module": "@jupyter-widgets/controls",
            "_model_module_version": "1.5.0",
            "value": 1,
            "_view_count": null,
            "_view_module_version": "1.5.0",
            "orientation": "horizontal",
            "min": 0,
            "description_tooltip": null,
            "_model_module": "@jupyter-widgets/controls",
            "layout": "IPY_MODEL_581525e9409c41f18d84032cd9f06690"
          }
        },
        "914bf131692d42808aceca6c92086ef6": {
          "model_module": "@jupyter-widgets/controls",
          "model_name": "HTMLModel",
          "state": {
            "_view_name": "HTMLView",
            "style": "IPY_MODEL_e89b9202d6d4400ebc35d6b5e50cdfc7",
            "_dom_classes": [],
            "description": "",
            "_model_name": "HTMLModel",
            "placeholder": "​",
            "_view_module": "@jupyter-widgets/controls",
            "_model_module_version": "1.5.0",
            "value": " 32768/? [00:00&lt;00:00, 100103.76it/s]",
            "_view_count": null,
            "_view_module_version": "1.5.0",
            "description_tooltip": null,
            "_model_module": "@jupyter-widgets/controls",
            "layout": "IPY_MODEL_49051fbff12743e0893c7d5ad75baa81"
          }
        },
        "d50eef7452cd4ccbb725d89b991ebbe5": {
          "model_module": "@jupyter-widgets/controls",
          "model_name": "ProgressStyleModel",
          "state": {
            "_view_name": "StyleView",
            "_model_name": "ProgressStyleModel",
            "description_width": "initial",
            "_view_module": "@jupyter-widgets/base",
            "_model_module_version": "1.5.0",
            "_view_count": null,
            "_view_module_version": "1.2.0",
            "bar_color": null,
            "_model_module": "@jupyter-widgets/controls"
          }
        },
        "581525e9409c41f18d84032cd9f06690": {
          "model_module": "@jupyter-widgets/base",
          "model_name": "LayoutModel",
          "state": {
            "_view_name": "LayoutView",
            "grid_template_rows": null,
            "right": null,
            "justify_content": null,
            "_view_module": "@jupyter-widgets/base",
            "overflow": null,
            "_model_module_version": "1.2.0",
            "_view_count": null,
            "flex_flow": null,
            "width": null,
            "min_width": null,
            "border": null,
            "align_items": null,
            "bottom": null,
            "_model_module": "@jupyter-widgets/base",
            "top": null,
            "grid_column": null,
            "overflow_y": null,
            "overflow_x": null,
            "grid_auto_flow": null,
            "grid_area": null,
            "grid_template_columns": null,
            "flex": null,
            "_model_name": "LayoutModel",
            "justify_items": null,
            "grid_row": null,
            "max_height": null,
            "align_content": null,
            "visibility": null,
            "align_self": null,
            "height": null,
            "min_height": null,
            "padding": null,
            "grid_auto_rows": null,
            "grid_gap": null,
            "max_width": null,
            "order": null,
            "_view_module_version": "1.2.0",
            "grid_template_areas": null,
            "object_position": null,
            "object_fit": null,
            "grid_auto_columns": null,
            "margin": null,
            "display": null,
            "left": null
          }
        },
        "e89b9202d6d4400ebc35d6b5e50cdfc7": {
          "model_module": "@jupyter-widgets/controls",
          "model_name": "DescriptionStyleModel",
          "state": {
            "_view_name": "StyleView",
            "_model_name": "DescriptionStyleModel",
            "description_width": "",
            "_view_module": "@jupyter-widgets/base",
            "_model_module_version": "1.5.0",
            "_view_count": null,
            "_view_module_version": "1.2.0",
            "_model_module": "@jupyter-widgets/controls"
          }
        },
        "49051fbff12743e0893c7d5ad75baa81": {
          "model_module": "@jupyter-widgets/base",
          "model_name": "LayoutModel",
          "state": {
            "_view_name": "LayoutView",
            "grid_template_rows": null,
            "right": null,
            "justify_content": null,
            "_view_module": "@jupyter-widgets/base",
            "overflow": null,
            "_model_module_version": "1.2.0",
            "_view_count": null,
            "flex_flow": null,
            "width": null,
            "min_width": null,
            "border": null,
            "align_items": null,
            "bottom": null,
            "_model_module": "@jupyter-widgets/base",
            "top": null,
            "grid_column": null,
            "overflow_y": null,
            "overflow_x": null,
            "grid_auto_flow": null,
            "grid_area": null,
            "grid_template_columns": null,
            "flex": null,
            "_model_name": "LayoutModel",
            "justify_items": null,
            "grid_row": null,
            "max_height": null,
            "align_content": null,
            "visibility": null,
            "align_self": null,
            "height": null,
            "min_height": null,
            "padding": null,
            "grid_auto_rows": null,
            "grid_gap": null,
            "max_width": null,
            "order": null,
            "_view_module_version": "1.2.0",
            "grid_template_areas": null,
            "object_position": null,
            "object_fit": null,
            "grid_auto_columns": null,
            "margin": null,
            "display": null,
            "left": null
          }
        },
        "1bf86bc037ac4de3af4ae31218ad9400": {
          "model_module": "@jupyter-widgets/controls",
          "model_name": "HBoxModel",
          "state": {
            "_view_name": "HBoxView",
            "_dom_classes": [],
            "_model_name": "HBoxModel",
            "_view_module": "@jupyter-widgets/controls",
            "_model_module_version": "1.5.0",
            "_view_count": null,
            "_view_module_version": "1.5.0",
            "box_style": "",
            "layout": "IPY_MODEL_baf989b387704a1298f5afb2aa70ea4a",
            "_model_module": "@jupyter-widgets/controls",
            "children": [
              "IPY_MODEL_8dec81ffb83d4641b98fc2914fe3806b",
              "IPY_MODEL_ac0f15d21a104819b284f666ac954fc6"
            ]
          }
        },
        "baf989b387704a1298f5afb2aa70ea4a": {
          "model_module": "@jupyter-widgets/base",
          "model_name": "LayoutModel",
          "state": {
            "_view_name": "LayoutView",
            "grid_template_rows": null,
            "right": null,
            "justify_content": null,
            "_view_module": "@jupyter-widgets/base",
            "overflow": null,
            "_model_module_version": "1.2.0",
            "_view_count": null,
            "flex_flow": null,
            "width": null,
            "min_width": null,
            "border": null,
            "align_items": null,
            "bottom": null,
            "_model_module": "@jupyter-widgets/base",
            "top": null,
            "grid_column": null,
            "overflow_y": null,
            "overflow_x": null,
            "grid_auto_flow": null,
            "grid_area": null,
            "grid_template_columns": null,
            "flex": null,
            "_model_name": "LayoutModel",
            "justify_items": null,
            "grid_row": null,
            "max_height": null,
            "align_content": null,
            "visibility": null,
            "align_self": null,
            "height": null,
            "min_height": null,
            "padding": null,
            "grid_auto_rows": null,
            "grid_gap": null,
            "max_width": null,
            "order": null,
            "_view_module_version": "1.2.0",
            "grid_template_areas": null,
            "object_position": null,
            "object_fit": null,
            "grid_auto_columns": null,
            "margin": null,
            "display": null,
            "left": null
          }
        },
        "8dec81ffb83d4641b98fc2914fe3806b": {
          "model_module": "@jupyter-widgets/controls",
          "model_name": "FloatProgressModel",
          "state": {
            "_view_name": "ProgressView",
            "style": "IPY_MODEL_759545a6ecb1460cabe07a8efc53e3b9",
            "_dom_classes": [],
            "description": "",
            "_model_name": "FloatProgressModel",
            "bar_style": "success",
            "max": 1,
            "_view_module": "@jupyter-widgets/controls",
            "_model_module_version": "1.5.0",
            "value": 1,
            "_view_count": null,
            "_view_module_version": "1.5.0",
            "orientation": "horizontal",
            "min": 0,
            "description_tooltip": null,
            "_model_module": "@jupyter-widgets/controls",
            "layout": "IPY_MODEL_faaeb75c624047828d9b6b4cd1e0e822"
          }
        },
        "ac0f15d21a104819b284f666ac954fc6": {
          "model_module": "@jupyter-widgets/controls",
          "model_name": "HTMLModel",
          "state": {
            "_view_name": "HTMLView",
            "style": "IPY_MODEL_0ad74cc4d093457f9e6d67dffbe74bf0",
            "_dom_classes": [],
            "description": "",
            "_model_name": "HTMLModel",
            "placeholder": "​",
            "_view_module": "@jupyter-widgets/controls",
            "_model_module_version": "1.5.0",
            "value": " 4423680/? [00:01&lt;00:00, 2973045.35it/s]",
            "_view_count": null,
            "_view_module_version": "1.5.0",
            "description_tooltip": null,
            "_model_module": "@jupyter-widgets/controls",
            "layout": "IPY_MODEL_e501800258534d829f42992334402ff0"
          }
        },
        "759545a6ecb1460cabe07a8efc53e3b9": {
          "model_module": "@jupyter-widgets/controls",
          "model_name": "ProgressStyleModel",
          "state": {
            "_view_name": "StyleView",
            "_model_name": "ProgressStyleModel",
            "description_width": "initial",
            "_view_module": "@jupyter-widgets/base",
            "_model_module_version": "1.5.0",
            "_view_count": null,
            "_view_module_version": "1.2.0",
            "bar_color": null,
            "_model_module": "@jupyter-widgets/controls"
          }
        },
        "faaeb75c624047828d9b6b4cd1e0e822": {
          "model_module": "@jupyter-widgets/base",
          "model_name": "LayoutModel",
          "state": {
            "_view_name": "LayoutView",
            "grid_template_rows": null,
            "right": null,
            "justify_content": null,
            "_view_module": "@jupyter-widgets/base",
            "overflow": null,
            "_model_module_version": "1.2.0",
            "_view_count": null,
            "flex_flow": null,
            "width": null,
            "min_width": null,
            "border": null,
            "align_items": null,
            "bottom": null,
            "_model_module": "@jupyter-widgets/base",
            "top": null,
            "grid_column": null,
            "overflow_y": null,
            "overflow_x": null,
            "grid_auto_flow": null,
            "grid_area": null,
            "grid_template_columns": null,
            "flex": null,
            "_model_name": "LayoutModel",
            "justify_items": null,
            "grid_row": null,
            "max_height": null,
            "align_content": null,
            "visibility": null,
            "align_self": null,
            "height": null,
            "min_height": null,
            "padding": null,
            "grid_auto_rows": null,
            "grid_gap": null,
            "max_width": null,
            "order": null,
            "_view_module_version": "1.2.0",
            "grid_template_areas": null,
            "object_position": null,
            "object_fit": null,
            "grid_auto_columns": null,
            "margin": null,
            "display": null,
            "left": null
          }
        },
        "0ad74cc4d093457f9e6d67dffbe74bf0": {
          "model_module": "@jupyter-widgets/controls",
          "model_name": "DescriptionStyleModel",
          "state": {
            "_view_name": "StyleView",
            "_model_name": "DescriptionStyleModel",
            "description_width": "",
            "_view_module": "@jupyter-widgets/base",
            "_model_module_version": "1.5.0",
            "_view_count": null,
            "_view_module_version": "1.2.0",
            "_model_module": "@jupyter-widgets/controls"
          }
        },
        "e501800258534d829f42992334402ff0": {
          "model_module": "@jupyter-widgets/base",
          "model_name": "LayoutModel",
          "state": {
            "_view_name": "LayoutView",
            "grid_template_rows": null,
            "right": null,
            "justify_content": null,
            "_view_module": "@jupyter-widgets/base",
            "overflow": null,
            "_model_module_version": "1.2.0",
            "_view_count": null,
            "flex_flow": null,
            "width": null,
            "min_width": null,
            "border": null,
            "align_items": null,
            "bottom": null,
            "_model_module": "@jupyter-widgets/base",
            "top": null,
            "grid_column": null,
            "overflow_y": null,
            "overflow_x": null,
            "grid_auto_flow": null,
            "grid_area": null,
            "grid_template_columns": null,
            "flex": null,
            "_model_name": "LayoutModel",
            "justify_items": null,
            "grid_row": null,
            "max_height": null,
            "align_content": null,
            "visibility": null,
            "align_self": null,
            "height": null,
            "min_height": null,
            "padding": null,
            "grid_auto_rows": null,
            "grid_gap": null,
            "max_width": null,
            "order": null,
            "_view_module_version": "1.2.0",
            "grid_template_areas": null,
            "object_position": null,
            "object_fit": null,
            "grid_auto_columns": null,
            "margin": null,
            "display": null,
            "left": null
          }
        },
        "e4a6100d60f1412aae9eaba08a880ba1": {
          "model_module": "@jupyter-widgets/controls",
          "model_name": "HBoxModel",
          "state": {
            "_view_name": "HBoxView",
            "_dom_classes": [],
            "_model_name": "HBoxModel",
            "_view_module": "@jupyter-widgets/controls",
            "_model_module_version": "1.5.0",
            "_view_count": null,
            "_view_module_version": "1.5.0",
            "box_style": "",
            "layout": "IPY_MODEL_d9db6bc6844c49019cabfef9fc395d73",
            "_model_module": "@jupyter-widgets/controls",
            "children": [
              "IPY_MODEL_49958511442b45b0a7869b3d21d624c3",
              "IPY_MODEL_29b0cbc4e66f47b082d4ea2cb5966d02"
            ]
          }
        },
        "d9db6bc6844c49019cabfef9fc395d73": {
          "model_module": "@jupyter-widgets/base",
          "model_name": "LayoutModel",
          "state": {
            "_view_name": "LayoutView",
            "grid_template_rows": null,
            "right": null,
            "justify_content": null,
            "_view_module": "@jupyter-widgets/base",
            "overflow": null,
            "_model_module_version": "1.2.0",
            "_view_count": null,
            "flex_flow": null,
            "width": null,
            "min_width": null,
            "border": null,
            "align_items": null,
            "bottom": null,
            "_model_module": "@jupyter-widgets/base",
            "top": null,
            "grid_column": null,
            "overflow_y": null,
            "overflow_x": null,
            "grid_auto_flow": null,
            "grid_area": null,
            "grid_template_columns": null,
            "flex": null,
            "_model_name": "LayoutModel",
            "justify_items": null,
            "grid_row": null,
            "max_height": null,
            "align_content": null,
            "visibility": null,
            "align_self": null,
            "height": null,
            "min_height": null,
            "padding": null,
            "grid_auto_rows": null,
            "grid_gap": null,
            "max_width": null,
            "order": null,
            "_view_module_version": "1.2.0",
            "grid_template_areas": null,
            "object_position": null,
            "object_fit": null,
            "grid_auto_columns": null,
            "margin": null,
            "display": null,
            "left": null
          }
        },
        "49958511442b45b0a7869b3d21d624c3": {
          "model_module": "@jupyter-widgets/controls",
          "model_name": "FloatProgressModel",
          "state": {
            "_view_name": "ProgressView",
            "style": "IPY_MODEL_d91a2910783a4ac7bbc15f839d24c613",
            "_dom_classes": [],
            "description": "",
            "_model_name": "FloatProgressModel",
            "bar_style": "success",
            "max": 1,
            "_view_module": "@jupyter-widgets/controls",
            "_model_module_version": "1.5.0",
            "value": 1,
            "_view_count": null,
            "_view_module_version": "1.5.0",
            "orientation": "horizontal",
            "min": 0,
            "description_tooltip": null,
            "_model_module": "@jupyter-widgets/controls",
            "layout": "IPY_MODEL_40fd283f0afd4af88e1f0a38a789ecfa"
          }
        },
        "29b0cbc4e66f47b082d4ea2cb5966d02": {
          "model_module": "@jupyter-widgets/controls",
          "model_name": "HTMLModel",
          "state": {
            "_view_name": "HTMLView",
            "style": "IPY_MODEL_bae10cec1980443b876507a66bca9e9a",
            "_dom_classes": [],
            "description": "",
            "_model_name": "HTMLModel",
            "placeholder": "​",
            "_view_module": "@jupyter-widgets/controls",
            "_model_module_version": "1.5.0",
            "value": " 8192/? [00:00&lt;00:00, 17124.04it/s]",
            "_view_count": null,
            "_view_module_version": "1.5.0",
            "description_tooltip": null,
            "_model_module": "@jupyter-widgets/controls",
            "layout": "IPY_MODEL_7834e40457224d93aaf0ba251a97c03d"
          }
        },
        "d91a2910783a4ac7bbc15f839d24c613": {
          "model_module": "@jupyter-widgets/controls",
          "model_name": "ProgressStyleModel",
          "state": {
            "_view_name": "StyleView",
            "_model_name": "ProgressStyleModel",
            "description_width": "initial",
            "_view_module": "@jupyter-widgets/base",
            "_model_module_version": "1.5.0",
            "_view_count": null,
            "_view_module_version": "1.2.0",
            "bar_color": null,
            "_model_module": "@jupyter-widgets/controls"
          }
        },
        "40fd283f0afd4af88e1f0a38a789ecfa": {
          "model_module": "@jupyter-widgets/base",
          "model_name": "LayoutModel",
          "state": {
            "_view_name": "LayoutView",
            "grid_template_rows": null,
            "right": null,
            "justify_content": null,
            "_view_module": "@jupyter-widgets/base",
            "overflow": null,
            "_model_module_version": "1.2.0",
            "_view_count": null,
            "flex_flow": null,
            "width": null,
            "min_width": null,
            "border": null,
            "align_items": null,
            "bottom": null,
            "_model_module": "@jupyter-widgets/base",
            "top": null,
            "grid_column": null,
            "overflow_y": null,
            "overflow_x": null,
            "grid_auto_flow": null,
            "grid_area": null,
            "grid_template_columns": null,
            "flex": null,
            "_model_name": "LayoutModel",
            "justify_items": null,
            "grid_row": null,
            "max_height": null,
            "align_content": null,
            "visibility": null,
            "align_self": null,
            "height": null,
            "min_height": null,
            "padding": null,
            "grid_auto_rows": null,
            "grid_gap": null,
            "max_width": null,
            "order": null,
            "_view_module_version": "1.2.0",
            "grid_template_areas": null,
            "object_position": null,
            "object_fit": null,
            "grid_auto_columns": null,
            "margin": null,
            "display": null,
            "left": null
          }
        },
        "bae10cec1980443b876507a66bca9e9a": {
          "model_module": "@jupyter-widgets/controls",
          "model_name": "DescriptionStyleModel",
          "state": {
            "_view_name": "StyleView",
            "_model_name": "DescriptionStyleModel",
            "description_width": "",
            "_view_module": "@jupyter-widgets/base",
            "_model_module_version": "1.5.0",
            "_view_count": null,
            "_view_module_version": "1.2.0",
            "_model_module": "@jupyter-widgets/controls"
          }
        },
        "7834e40457224d93aaf0ba251a97c03d": {
          "model_module": "@jupyter-widgets/base",
          "model_name": "LayoutModel",
          "state": {
            "_view_name": "LayoutView",
            "grid_template_rows": null,
            "right": null,
            "justify_content": null,
            "_view_module": "@jupyter-widgets/base",
            "overflow": null,
            "_model_module_version": "1.2.0",
            "_view_count": null,
            "flex_flow": null,
            "width": null,
            "min_width": null,
            "border": null,
            "align_items": null,
            "bottom": null,
            "_model_module": "@jupyter-widgets/base",
            "top": null,
            "grid_column": null,
            "overflow_y": null,
            "overflow_x": null,
            "grid_auto_flow": null,
            "grid_area": null,
            "grid_template_columns": null,
            "flex": null,
            "_model_name": "LayoutModel",
            "justify_items": null,
            "grid_row": null,
            "max_height": null,
            "align_content": null,
            "visibility": null,
            "align_self": null,
            "height": null,
            "min_height": null,
            "padding": null,
            "grid_auto_rows": null,
            "grid_gap": null,
            "max_width": null,
            "order": null,
            "_view_module_version": "1.2.0",
            "grid_template_areas": null,
            "object_position": null,
            "object_fit": null,
            "grid_auto_columns": null,
            "margin": null,
            "display": null,
            "left": null
          }
        }
      }
    }
  },
  "cells": [
    {
      "cell_type": "code",
      "metadata": {
        "colab": {
          "base_uri": "https://localhost:8080/"
        },
        "id": "8RVw8mdgvLYu",
        "outputId": "acfa0f30-8fe5-4a76-e19f-0a73a8f4f429"
      },
      "source": [
        "!git clone https://github.com/Idilismiguzel/Computer-Vision\r\n",
        "%cd /content/Computer-Vision/1_5_CNN_Layers"
      ],
      "execution_count": 9,
      "outputs": [
        {
          "output_type": "stream",
          "text": [
            "Cloning into 'Computer-Vision'...\n",
            "remote: Enumerating objects: 8, done.\u001b[K\n",
            "remote: Counting objects: 100% (8/8), done.\u001b[K\n",
            "remote: Compressing objects: 100% (6/6), done.\u001b[K\n",
            "remote: Total 690 (delta 3), reused 7 (delta 2), pack-reused 682\u001b[K\n",
            "Receiving objects: 100% (690/690), 135.92 MiB | 39.33 MiB/s, done.\n",
            "Resolving deltas: 100% (77/77), done.\n",
            "Checking out files: 100% (523/523), done.\n",
            "/content/Computer-Vision/1_5_CNN_Layers\n"
          ],
          "name": "stdout"
        }
      ]
    },
    {
      "cell_type": "markdown",
      "metadata": {
        "id": "S4-zUWM4vujU"
      },
      "source": [
        "# CNN for Classification\r\n",
        "---\r\n",
        "In this notebook, we define **and train** an CNN to classify images from the [Fashion-MNIST database](https://github.com/zalandoresearch/fashion-mnist).\r\n",
        "\r\n",
        "We are providing two solutions to show you how different network structures and training strategies can affect the performance and accuracy of a CNN. This first solution will be a simple CNN with two convolutional layers. \r\n",
        "\r\n",
        "Please note that this is just one possible solution out of many!"
      ]
    },
    {
      "cell_type": "markdown",
      "metadata": {
        "id": "nGqYmcMFxMQk"
      },
      "source": [
        "### Load the [data](https://pytorch.org/docs/stable/torchvision/datasets.html)\r\n",
        "\r\n",
        "In this cell, we load in both **training and test** datasets from the FashionMNIST class."
      ]
    },
    {
      "cell_type": "code",
      "metadata": {
        "colab": {
          "base_uri": "https://localhost:8080/",
          "height": 380,
          "referenced_widgets": [
            "9ad67536b7264f04bfa7fc680c257d2a",
            "8271b8ae071b40a0a26e6e0228c089b7",
            "3134b08a70c84ed88dddef636bd48c55",
            "60824e6c644846ce89829e2fc023b934",
            "adf85271136146f786b2763ec4851eec",
            "3f818ff9be2d4381b3170893aa18f4dc",
            "8298ffe5144643fc8083f30c0f441930",
            "0517fe7460c8490e96738441b7f934c5",
            "511602d5717244c99825e957bcaba381",
            "780e4234823947449a6086e7d98394f4",
            "cedd786458174b31a63b7c5710eccb94",
            "914bf131692d42808aceca6c92086ef6",
            "d50eef7452cd4ccbb725d89b991ebbe5",
            "581525e9409c41f18d84032cd9f06690",
            "e89b9202d6d4400ebc35d6b5e50cdfc7",
            "49051fbff12743e0893c7d5ad75baa81",
            "1bf86bc037ac4de3af4ae31218ad9400",
            "baf989b387704a1298f5afb2aa70ea4a",
            "8dec81ffb83d4641b98fc2914fe3806b",
            "ac0f15d21a104819b284f666ac954fc6",
            "759545a6ecb1460cabe07a8efc53e3b9",
            "faaeb75c624047828d9b6b4cd1e0e822",
            "0ad74cc4d093457f9e6d67dffbe74bf0",
            "e501800258534d829f42992334402ff0",
            "e4a6100d60f1412aae9eaba08a880ba1",
            "d9db6bc6844c49019cabfef9fc395d73",
            "49958511442b45b0a7869b3d21d624c3",
            "29b0cbc4e66f47b082d4ea2cb5966d02",
            "d91a2910783a4ac7bbc15f839d24c613",
            "40fd283f0afd4af88e1f0a38a789ecfa",
            "bae10cec1980443b876507a66bca9e9a",
            "7834e40457224d93aaf0ba251a97c03d"
          ]
        },
        "id": "e1QSRhevvqN1",
        "outputId": "f39320ba-f988-4025-bf58-9c97223d635e"
      },
      "source": [
        "# our basic libraries\r\n",
        "import torch\r\n",
        "import torchvision\r\n",
        "\r\n",
        "# data loading and transforming\r\n",
        "from torchvision.datasets import FashionMNIST\r\n",
        "from torch.utils.data import DataLoader\r\n",
        "from torchvision import transforms\r\n",
        "\r\n",
        "# The output of torchvision datasets are PILImage images of range [0, 1]. \r\n",
        "# We transform them to Tensors for input into a CNN\r\n",
        "\r\n",
        "## Define a transform to read the data in as a tensor\r\n",
        "data_transform = transforms.ToTensor()\r\n",
        "\r\n",
        "# choose the training and test datasets\r\n",
        "train_data = FashionMNIST(root='./data', train=True,\r\n",
        "                                   download=True, transform=data_transform)\r\n",
        "\r\n",
        "test_data = FashionMNIST(root='./data', train=False,\r\n",
        "                                  download=True, transform=data_transform)\r\n",
        "\r\n",
        "\r\n",
        "# Print out some stats about the training and test data\r\n",
        "print('Train data, number of images: ', len(train_data))\r\n",
        "print('Test data, number of images: ', len(test_data))"
      ],
      "execution_count": 10,
      "outputs": [
        {
          "output_type": "stream",
          "text": [
            "Downloading http://fashion-mnist.s3-website.eu-central-1.amazonaws.com/train-images-idx3-ubyte.gz to ./data/FashionMNIST/raw/train-images-idx3-ubyte.gz\n"
          ],
          "name": "stdout"
        },
        {
          "output_type": "display_data",
          "data": {
            "application/vnd.jupyter.widget-view+json": {
              "model_id": "9ad67536b7264f04bfa7fc680c257d2a",
              "version_minor": 0,
              "version_major": 2
            },
            "text/plain": [
              "HBox(children=(FloatProgress(value=1.0, bar_style='info', max=1.0), HTML(value='')))"
            ]
          },
          "metadata": {
            "tags": []
          }
        },
        {
          "output_type": "stream",
          "text": [
            "Extracting ./data/FashionMNIST/raw/train-images-idx3-ubyte.gz to ./data/FashionMNIST/raw\n",
            "Downloading http://fashion-mnist.s3-website.eu-central-1.amazonaws.com/train-labels-idx1-ubyte.gz to ./data/FashionMNIST/raw/train-labels-idx1-ubyte.gz\n"
          ],
          "name": "stdout"
        },
        {
          "output_type": "display_data",
          "data": {
            "application/vnd.jupyter.widget-view+json": {
              "model_id": "511602d5717244c99825e957bcaba381",
              "version_minor": 0,
              "version_major": 2
            },
            "text/plain": [
              "HBox(children=(FloatProgress(value=1.0, bar_style='info', max=1.0), HTML(value='')))"
            ]
          },
          "metadata": {
            "tags": []
          }
        },
        {
          "output_type": "stream",
          "text": [
            "Extracting ./data/FashionMNIST/raw/train-labels-idx1-ubyte.gz to ./data/FashionMNIST/raw\n",
            "Downloading http://fashion-mnist.s3-website.eu-central-1.amazonaws.com/t10k-images-idx3-ubyte.gz to ./data/FashionMNIST/raw/t10k-images-idx3-ubyte.gz\n",
            "\n",
            "\n"
          ],
          "name": "stdout"
        },
        {
          "output_type": "display_data",
          "data": {
            "application/vnd.jupyter.widget-view+json": {
              "model_id": "1bf86bc037ac4de3af4ae31218ad9400",
              "version_minor": 0,
              "version_major": 2
            },
            "text/plain": [
              "HBox(children=(FloatProgress(value=1.0, bar_style='info', max=1.0), HTML(value='')))"
            ]
          },
          "metadata": {
            "tags": []
          }
        },
        {
          "output_type": "stream",
          "text": [
            "Extracting ./data/FashionMNIST/raw/t10k-images-idx3-ubyte.gz to ./data/FashionMNIST/raw\n",
            "Downloading http://fashion-mnist.s3-website.eu-central-1.amazonaws.com/t10k-labels-idx1-ubyte.gz to ./data/FashionMNIST/raw/t10k-labels-idx1-ubyte.gz\n"
          ],
          "name": "stdout"
        },
        {
          "output_type": "display_data",
          "data": {
            "application/vnd.jupyter.widget-view+json": {
              "model_id": "e4a6100d60f1412aae9eaba08a880ba1",
              "version_minor": 0,
              "version_major": 2
            },
            "text/plain": [
              "HBox(children=(FloatProgress(value=1.0, bar_style='info', max=1.0), HTML(value='')))"
            ]
          },
          "metadata": {
            "tags": []
          }
        },
        {
          "output_type": "stream",
          "text": [
            "Extracting ./data/FashionMNIST/raw/t10k-labels-idx1-ubyte.gz to ./data/FashionMNIST/raw\n",
            "Processing...\n",
            "Done!\n",
            "Train data, number of images:  60000\n",
            "Test data, number of images:  10000\n"
          ],
          "name": "stdout"
        }
      ]
    },
    {
      "cell_type": "code",
      "metadata": {
        "id": "ldHHjMpAxPjc"
      },
      "source": [
        "# prepare data loaders, set the batch_size\r\n",
        "## TODO: you can try changing the batch_size to be larger or smaller\r\n",
        "## when you get to training your network, see how batch_size affects the loss\r\n",
        "batch_size = 20\r\n",
        "\r\n",
        "train_loader = DataLoader(train_data, batch_size=batch_size, shuffle=True)\r\n",
        "test_loader = DataLoader(test_data, batch_size=batch_size, shuffle=True)\r\n",
        "\r\n",
        "# specify the image classes\r\n",
        "classes = ['T-shirt/top', 'Trouser', 'Pullover', 'Dress', 'Coat', \r\n",
        "           'Sandal', 'Shirt', 'Sneaker', 'Bag', 'Ankle boot']"
      ],
      "execution_count": 11,
      "outputs": []
    },
    {
      "cell_type": "markdown",
      "metadata": {
        "id": "qE6a9DN0xXf7"
      },
      "source": [
        "### Visualize some training data\r\n",
        "\r\n",
        "This cell iterates over the training dataset, loading a random batch of image/label data, using `dataiter.next()`. It then plots the batch of images and labels in a `2 x batch_size/2` grid."
      ]
    },
    {
      "cell_type": "code",
      "metadata": {
        "colab": {
          "base_uri": "https://localhost:8080/",
          "height": 302
        },
        "id": "PktLxgxzxZLb",
        "outputId": "362f11e4-6226-42c0-8618-fea4b56d6f1c"
      },
      "source": [
        "import numpy as np\r\n",
        "import matplotlib.pyplot as plt\r\n",
        "\r\n",
        "%matplotlib inline\r\n",
        "    \r\n",
        "# obtain one batch of training images\r\n",
        "dataiter = iter(train_loader)\r\n",
        "images, labels = dataiter.next()\r\n",
        "images = images.numpy()\r\n",
        "\r\n",
        "# plot the images in the batch, along with the corresponding labels\r\n",
        "fig = plt.figure(figsize=(25, 4))\r\n",
        "for idx in np.arange(batch_size):\r\n",
        "    ax = fig.add_subplot(2, batch_size/2, idx+1, xticks=[], yticks=[])\r\n",
        "    ax.imshow(np.squeeze(images[idx]), cmap='gray')\r\n",
        "    ax.set_title(classes[labels[idx]])"
      ],
      "execution_count": 12,
      "outputs": [
        {
          "output_type": "stream",
          "text": [
            "\n",
            "\n"
          ],
          "name": "stdout"
        },
        {
          "output_type": "display_data",
          "data": {
            "image/png": "[encoded data removed]",
            "text/plain": [
              "<Figure size 1800x288 with 20 Axes>"
            ]
          },
          "metadata": {
            "tags": []
          }
        }
      ]
    },
    {
      "cell_type": "markdown",
      "metadata": {
        "id": "d9PmGXJ4xb9j"
      },
      "source": [
        "### Define the network architecture\r\n",
        "\r\n",
        "The various layers that make up any neural network are documented, [here](https://pytorch.org/docs/stable/nn.html). For a convolutional neural network, we'll use a simple series of layers:\r\n",
        "* Convolutional layers\r\n",
        "* Maxpooling layers\r\n",
        "* Fully-connected (linear) layers\r\n",
        "\r\n",
        "You are also encouraged to look at adding [dropout layers](https://pytorch.org/docs/stable/nn.html#dropout) to avoid overfitting this data.\r\n",
        "\r\n",
        "---\r\n",
        "\r\n",
        "To define a neural network in PyTorch, you define the layers of a model in the function `__init__` and define the feedforward behavior of a network that employs those initialized layers in the function `forward`, which takes in an input image tensor, `x`. The structure of this Net class is shown below and left for you to fill in.\r\n",
        "\r\n",
        "Note: During training, PyTorch will be able to perform backpropagation by keeping track of the network's feedforward behavior and using autograd to calculate the update to the weights in the network.\r\n",
        "\r\n",
        "#### Define the Layers in ` __init__`\r\n",
        "As a reminder, a conv/pool layer may be defined like this (in `__init__`):\r\n",
        "```\r\n",
        "# 1 input image channel (for grayscale images), 32 output channels/feature maps, 3x3 square convolution kernel\r\n",
        "self.conv1 = nn.Conv2d(1, 32, 3)\r\n",
        "\r\n",
        "# maxpool that uses a square window of kernel_size=2, stride=2\r\n",
        "self.pool = nn.MaxPool2d(2, 2)      \r\n",
        "```\r\n",
        "\r\n",
        "#### Refer to Layers in `forward`\r\n",
        "Then referred to in the `forward` function like this, in which the conv1 layer has a ReLu activation applied to it before maxpooling is applied:\r\n",
        "```\r\n",
        "x = self.pool(F.relu(self.conv1(x)))\r\n",
        "```\r\n",
        "\r\n",
        "You must place any layers with trainable weights, such as convolutional layers, in the `__init__` function and refer to them in the `forward` function; any layers or functions that always behave in the same way, such as a pre-defined activation function, may appear *only* in the `forward` function. In practice, you'll often see conv/pool layers defined in `__init__` and activations defined in `forward`.\r\n",
        "\r\n",
        "#### Convolutional layer\r\n",
        "The first convolution layer has been defined for you, it takes in a 1 channel (grayscale) image and outputs 10 feature maps as output, after convolving the image with 3x3 filters.\r\n",
        "\r\n",
        "#### Flattening\r\n",
        "\r\n",
        "Recall that to move from the output of a convolutional/pooling layer to a linear layer, you must first flatten your extracted features into a vector. If you've used the deep learning library, Keras, you may have seen this done by `Flatten()`, and in PyTorch you can flatten an input `x` with `x = x.view(x.size(0), -1)`.\r\n",
        "\r\n",
        "### TODO: Define the rest of the layers\r\n",
        "\r\n",
        "It will be up to you to define the other layers in this network; we have some recommendations, but you may change the architecture and parameters as you see fit.\r\n",
        "\r\n",
        "Recommendations/tips:\r\n",
        "* Use at least two convolutional layers\r\n",
        "* Your output must be a linear layer with 10 outputs (for the 10 classes of clothing)\r\n",
        "* Use a dropout layer to avoid overfitting\r\n",
        "\r\n",
        "### A note on output size\r\n",
        "\r\n",
        "For any convolutional layer, the output feature maps will have the specified depth (a depth of 10 for 10 filters in a convolutional layer) and the dimensions of the produced feature maps (width/height) can be computed as the _input image_ width/height, W, minus the filter size, F, divided by the stride, S, all + 1. The equation looks like: `output_dim = (W-F)/S + 1`, for an assumed padding size of 0. You can find a derivation of this formula, [here](http://cs231n.github.io/convolutional-networks/#conv).\r\n",
        "\r\n",
        "For a pool layer with a size 2 and stride 2, the output dimension will be reduced by a factor of 2. Read the comments in the code below to see the output size for each layer."
      ]
    },
    {
      "cell_type": "code",
      "metadata": {
        "colab": {
          "base_uri": "https://localhost:8080/"
        },
        "id": "ttaxELt2xajq",
        "outputId": "61625b7b-e551-4fad-9df2-6e7be88d84c6"
      },
      "source": [
        "import torch.nn as nn\r\n",
        "import torch.nn.functional as F\r\n",
        "\r\n",
        "class Net(nn.Module):\r\n",
        "\r\n",
        "    def __init__(self):\r\n",
        "        super(Net, self).__init__()\r\n",
        "        \r\n",
        "        # 1 input image channel (grayscale), 10 output channels/feature maps\r\n",
        "        # 3x3 square convolution kernel\r\n",
        "        ## output size = (W-F)/S +1 = (28-3)/1 +1 = 26\r\n",
        "        # the output Tensor for one image, will have the dimensions: (10, 26, 26)\r\n",
        "        # after one pool layer, this becomes (10, 13, 13)\r\n",
        "        self.conv1 = nn.Conv2d(1, 10, 3)\r\n",
        "        \r\n",
        "        # maxpool layer\r\n",
        "        # pool with kernel_size=2, stride=2\r\n",
        "        self.pool = nn.MaxPool2d(2, 2)\r\n",
        "        \r\n",
        "        # second conv layer: 10 inputs, 20 outputs, 3x3 conv\r\n",
        "        ## output size = (W-F)/S +1 = (13-3)/1 +1 = 11\r\n",
        "        # the output tensor will have dimensions: (20, 11, 11)\r\n",
        "        # after another pool layer this becomes (20, 5, 5); 5.5 is rounded down\r\n",
        "        self.conv2 = nn.Conv2d(10, 20, 3)\r\n",
        "        \r\n",
        "        # 20 outputs * the 5*5 filtered/pooled map size\r\n",
        "        # 10 output channels (for the 10 classes)\r\n",
        "        self.fc1 = nn.Linear(20*5*5, 10)\r\n",
        "        \r\n",
        "\r\n",
        "    # define the feedforward behavior\r\n",
        "    def forward(self, x):\r\n",
        "        # two conv/relu + pool layers\r\n",
        "        x = self.pool(F.relu(self.conv1(x)))\r\n",
        "        x = self.pool(F.relu(self.conv2(x)))\r\n",
        "\r\n",
        "        # prep for linear layer\r\n",
        "        # flatten the inputs into a vector\r\n",
        "        x = x.view(x.size(0), -1)\r\n",
        "        \r\n",
        "        # one linear layer\r\n",
        "        x = F.relu(self.fc1(x))\r\n",
        "        # a softmax layer to convert the 10 outputs into a distribution of class scores\r\n",
        "        x = F.log_softmax(x, dim=1)\r\n",
        "        \r\n",
        "        # final output\r\n",
        "        return x\r\n",
        "\r\n",
        "# instantiate and print your Net\r\n",
        "net = Net()\r\n",
        "print(net)"
      ],
      "execution_count": 13,
      "outputs": [
        {
          "output_type": "stream",
          "text": [
            "Net(\n",
            "  (conv1): Conv2d(1, 10, kernel_size=(3, 3), stride=(1, 1))\n",
            "  (pool): MaxPool2d(kernel_size=2, stride=2, padding=0, dilation=1, ceil_mode=False)\n",
            "  (conv2): Conv2d(10, 20, kernel_size=(3, 3), stride=(1, 1))\n",
            "  (fc1): Linear(in_features=500, out_features=10, bias=True)\n",
            ")\n"
          ],
          "name": "stdout"
        }
      ]
    },
    {
      "cell_type": "markdown",
      "metadata": {
        "id": "qJV3WCShziQN"
      },
      "source": [
        "### TODO: Specify the loss function and optimizer\r\n",
        "\r\n",
        "Learn more about [loss functions](https://pytorch.org/docs/stable/nn.html#loss-functions) and [optimizers](https://pytorch.org/docs/stable/optim.html) in the online documentation.\r\n",
        "\r\n",
        "Note that for a classification problem like this, one typically uses cross entropy loss, which can be defined in code like: `criterion = nn.CrossEntropyLoss()`; cross entropy loss combines `softmax` and `NLL loss` so, alternatively (as in this example), you may see NLL Loss being used when the output of our Net is a distribution of class scores. \r\n",
        "\r\n",
        "PyTorch also includes some standard stochastic optimizers like stochastic gradient descent and Adam. You're encouraged to try different optimizers and see how your model responds to these choices as it trains.\r\n"
      ]
    },
    {
      "cell_type": "code",
      "metadata": {
        "id": "2Hu_s1vqzpld"
      },
      "source": [
        "import torch.optim as optim\r\n",
        "\r\n",
        "## TODO: specify loss function \r\n",
        "# cross entropy loss combines softmax and nn.NLLLoss() in one single class.\r\n",
        "criterion = nn.NLLLoss()\r\n",
        "\r\n",
        "## TODO: specify optimizer \r\n",
        "# stochastic gradient descent with a small learning rate\r\n",
        "optimizer = optim.SGD(net.parameters(), lr=0.001)"
      ],
      "execution_count": 14,
      "outputs": []
    },
    {
      "cell_type": "markdown",
      "metadata": {
        "id": "otzWZ7VFztF7"
      },
      "source": [
        "### A note on accuracy\r\n",
        "\r\n",
        "It's interesting to look at the accuracy of your network **before and after** training. This way you can really see that your network has learned something. In the next cell, let's see what the accuracy of an untrained network is (we expect it to be around 10% which is the same accuracy as just guessing for all 10 classes)."
      ]
    },
    {
      "cell_type": "code",
      "metadata": {
        "colab": {
          "base_uri": "https://localhost:8080/"
        },
        "id": "urJr0o9Dzup1",
        "outputId": "5d54d5ef-a1cc-407e-a770-87871cff64b9"
      },
      "source": [
        "# Calculate accuracy before training\r\n",
        "correct = 0\r\n",
        "total = 0\r\n",
        "\r\n",
        "# Iterate through test dataset\r\n",
        "for images, labels in test_loader:\r\n",
        "\r\n",
        "    # forward pass to get outputs\r\n",
        "    # the outputs are a series of class scores\r\n",
        "    outputs = net(images)\r\n",
        "\r\n",
        "    # get the predicted class from the maximum value in the output-list of class scores\r\n",
        "    _, predicted = torch.max(outputs.data, 1)\r\n",
        "\r\n",
        "    # count up total number of correct labels\r\n",
        "    # for which the predicted and true labels are equal\r\n",
        "    total += labels.size(0)\r\n",
        "    correct += (predicted == labels).sum()\r\n",
        "\r\n",
        "# calculate the accuracy\r\n",
        "# to convert `correct` from a Tensor into a scalar, use .item()\r\n",
        "accuracy = 100.0 * correct.item() / total\r\n",
        "\r\n",
        "# print it out!\r\n",
        "print('Accuracy before training: ', accuracy)"
      ],
      "execution_count": 15,
      "outputs": [
        {
          "output_type": "stream",
          "text": [
            "Accuracy before training:  9.94\n"
          ],
          "name": "stdout"
        }
      ]
    },
    {
      "cell_type": "markdown",
      "metadata": {
        "id": "6GnrlBgIzzes"
      },
      "source": [
        "### Train the Network\r\n",
        "\r\n",
        "Below, we've defined a `train` function that takes in a number of epochs to train for. \r\n",
        "* The number of epochs is how many times a network will cycle through the entire training dataset. \r\n",
        "* Inside the epoch loop, we loop over the training dataset in batches; recording the loss every 1000 batches.\r\n",
        "\r\n",
        "Here are the steps that this training function performs as it iterates over the training dataset:\r\n",
        "\r\n",
        "1. Zero's the gradients to prepare for a forward pass\r\n",
        "2. Passes the input through the network (forward pass)\r\n",
        "3. Computes the loss (how far is the predicted classes are from the correct labels)\r\n",
        "4. Propagates gradients back into the network’s parameters (backward pass)\r\n",
        "5. Updates the weights (parameter update)\r\n",
        "6. Prints out the calculated loss\r\n",
        "\r\n"
      ]
    },
    {
      "cell_type": "code",
      "metadata": {
        "id": "ps-EeDMBzwhi"
      },
      "source": [
        "def train(n_epochs):\r\n",
        "    \r\n",
        "    loss_over_time = [] # to track the loss as the network trains\r\n",
        "    \r\n",
        "    for epoch in range(n_epochs):  # loop over the dataset multiple times\r\n",
        "        \r\n",
        "        running_loss = 0.0\r\n",
        "        \r\n",
        "        for batch_i, data in enumerate(train_loader):\r\n",
        "            # get the input images and their corresponding labels\r\n",
        "            inputs, labels = data\r\n",
        "\r\n",
        "            # zero the parameter (weight) gradients\r\n",
        "            optimizer.zero_grad()\r\n",
        "\r\n",
        "            # forward pass to get outputs\r\n",
        "            outputs = net(inputs)\r\n",
        "\r\n",
        "            # calculate the loss\r\n",
        "            loss = criterion(outputs, labels)\r\n",
        "\r\n",
        "            # backward pass to calculate the parameter gradients\r\n",
        "            loss.backward()\r\n",
        "\r\n",
        "            # update the parameters\r\n",
        "            optimizer.step()\r\n",
        "\r\n",
        "            # print loss statistics\r\n",
        "            # to convert loss into a scalar and add it to running_loss, we use .item()\r\n",
        "            running_loss += loss.item()\r\n",
        "            \r\n",
        "            if batch_i % 1000 == 999:    # print every 1000 batches\r\n",
        "                avg_loss = running_loss/1000\r\n",
        "                # record and print the avg loss over the 1000 batches\r\n",
        "                loss_over_time.append(avg_loss)\r\n",
        "                print('Epoch: {}, Batch: {}, Avg. Loss: {}'.format(epoch + 1, batch_i+1, avg_loss))\r\n",
        "                running_loss = 0.0\r\n",
        "\r\n",
        "    print('Finished Training')\r\n",
        "    return loss_over_time\r\n"
      ],
      "execution_count": 16,
      "outputs": []
    },
    {
      "cell_type": "code",
      "metadata": {
        "colab": {
          "base_uri": "https://localhost:8080/"
        },
        "id": "zkW-UvhDz1-J",
        "outputId": "f71bc07e-571a-49ea-ae7f-0d3e6556af17"
      },
      "source": [
        "# define the number of epochs to train for\r\n",
        "n_epochs = 30 # start small to see if your model works, initially\r\n",
        "\r\n",
        "# call train and record the loss over time\r\n",
        "training_loss = train(n_epochs)"
      ],
      "execution_count": 17,
      "outputs": [
        {
          "output_type": "stream",
          "text": [
            "Epoch: 1, Batch: 1000, Avg. Loss: 2.2837598114013673\n",
            "Epoch: 1, Batch: 2000, Avg. Loss: 2.198848950147629\n",
            "Epoch: 1, Batch: 3000, Avg. Loss: 1.8735286849737167\n",
            "Epoch: 2, Batch: 1000, Avg. Loss: 1.458478058218956\n",
            "Epoch: 2, Batch: 2000, Avg. Loss: 1.2367369239330293\n",
            "Epoch: 2, Batch: 3000, Avg. Loss: 1.136243859320879\n",
            "Epoch: 3, Batch: 1000, Avg. Loss: 1.1010691497623921\n",
            "Epoch: 3, Batch: 2000, Avg. Loss: 1.0621942980587482\n",
            "Epoch: 3, Batch: 3000, Avg. Loss: 1.0329977192431687\n",
            "Epoch: 4, Batch: 1000, Avg. Loss: 1.0242350886166096\n",
            "Epoch: 4, Batch: 2000, Avg. Loss: 1.0096122646927834\n",
            "Epoch: 4, Batch: 3000, Avg. Loss: 0.9976831898987293\n",
            "Epoch: 5, Batch: 1000, Avg. Loss: 0.9875363293290138\n",
            "Epoch: 5, Batch: 2000, Avg. Loss: 0.9850400114953518\n",
            "Epoch: 5, Batch: 3000, Avg. Loss: 0.9600403507500886\n",
            "Epoch: 6, Batch: 1000, Avg. Loss: 0.953252649396658\n",
            "Epoch: 6, Batch: 2000, Avg. Loss: 0.9458830879330635\n",
            "Epoch: 6, Batch: 3000, Avg. Loss: 0.9589775711596012\n",
            "Epoch: 7, Batch: 1000, Avg. Loss: 0.9356392407119274\n",
            "Epoch: 7, Batch: 2000, Avg. Loss: 0.9245870035588741\n",
            "Epoch: 7, Batch: 3000, Avg. Loss: 0.9412146306037903\n",
            "Epoch: 8, Batch: 1000, Avg. Loss: 0.9147441481649876\n",
            "Epoch: 8, Batch: 2000, Avg. Loss: 0.9256368777453899\n",
            "Epoch: 8, Batch: 3000, Avg. Loss: 0.9096914474070072\n",
            "Epoch: 9, Batch: 1000, Avg. Loss: 0.9076970774531364\n",
            "Epoch: 9, Batch: 2000, Avg. Loss: 0.9008720697462559\n",
            "Epoch: 9, Batch: 3000, Avg. Loss: 0.9002451327592135\n",
            "Epoch: 10, Batch: 1000, Avg. Loss: 0.889453293889761\n",
            "Epoch: 10, Batch: 2000, Avg. Loss: 0.8530966364592314\n",
            "Epoch: 10, Batch: 3000, Avg. Loss: 0.7812532497420906\n",
            "Epoch: 11, Batch: 1000, Avg. Loss: 0.757493372246623\n",
            "Epoch: 11, Batch: 2000, Avg. Loss: 0.7616825364977121\n",
            "Epoch: 11, Batch: 3000, Avg. Loss: 0.7503412503376603\n",
            "Epoch: 12, Batch: 1000, Avg. Loss: 0.7564971210509539\n",
            "Epoch: 12, Batch: 2000, Avg. Loss: 0.7389348863139749\n",
            "Epoch: 12, Batch: 3000, Avg. Loss: 0.7180648345649242\n",
            "Epoch: 13, Batch: 1000, Avg. Loss: 0.7272748460024595\n",
            "Epoch: 13, Batch: 2000, Avg. Loss: 0.715910024382174\n",
            "Epoch: 13, Batch: 3000, Avg. Loss: 0.7297478337734937\n",
            "Epoch: 14, Batch: 1000, Avg. Loss: 0.7172020353674888\n",
            "Epoch: 14, Batch: 2000, Avg. Loss: 0.7065366014838219\n",
            "Epoch: 14, Batch: 3000, Avg. Loss: 0.7105351883396507\n",
            "Epoch: 15, Batch: 1000, Avg. Loss: 0.7156203629672527\n",
            "Epoch: 15, Batch: 2000, Avg. Loss: 0.6983331056311727\n",
            "Epoch: 15, Batch: 3000, Avg. Loss: 0.6913235017061233\n",
            "Epoch: 16, Batch: 1000, Avg. Loss: 0.6943923969119787\n",
            "Epoch: 16, Batch: 2000, Avg. Loss: 0.696581866376102\n",
            "Epoch: 16, Batch: 3000, Avg. Loss: 0.6866906326413155\n",
            "Epoch: 17, Batch: 1000, Avg. Loss: 0.6962833534181118\n",
            "Epoch: 17, Batch: 2000, Avg. Loss: 0.6784768113046884\n",
            "Epoch: 17, Batch: 3000, Avg. Loss: 0.6806772595345973\n",
            "Epoch: 18, Batch: 1000, Avg. Loss: 0.6739315151125193\n",
            "Epoch: 18, Batch: 2000, Avg. Loss: 0.6840361898913979\n",
            "Epoch: 18, Batch: 3000, Avg. Loss: 0.6738317576348781\n",
            "Epoch: 19, Batch: 1000, Avg. Loss: 0.6702221167087555\n",
            "Epoch: 19, Batch: 2000, Avg. Loss: 0.6738420189470052\n",
            "Epoch: 19, Batch: 3000, Avg. Loss: 0.6654512316212058\n",
            "Epoch: 20, Batch: 1000, Avg. Loss: 0.6634037678427994\n",
            "Epoch: 20, Batch: 2000, Avg. Loss: 0.6648688221871852\n",
            "Epoch: 20, Batch: 3000, Avg. Loss: 0.6627000927627087\n",
            "Epoch: 21, Batch: 1000, Avg. Loss: 0.6568867450729012\n",
            "Epoch: 21, Batch: 2000, Avg. Loss: 0.6645226124152541\n",
            "Epoch: 21, Batch: 3000, Avg. Loss: 0.6500024819001555\n",
            "Epoch: 22, Batch: 1000, Avg. Loss: 0.6509867910370231\n",
            "Epoch: 22, Batch: 2000, Avg. Loss: 0.6493260251432658\n",
            "Epoch: 22, Batch: 3000, Avg. Loss: 0.6534311414211988\n",
            "Epoch: 23, Batch: 1000, Avg. Loss: 0.6530033290684223\n",
            "Epoch: 23, Batch: 2000, Avg. Loss: 0.6383908212855458\n",
            "Epoch: 23, Batch: 3000, Avg. Loss: 0.6462619764134288\n",
            "Epoch: 24, Batch: 1000, Avg. Loss: 0.6364324188530445\n",
            "Epoch: 24, Batch: 2000, Avg. Loss: 0.648732939042151\n",
            "Epoch: 24, Batch: 3000, Avg. Loss: 0.6401867284625768\n",
            "Epoch: 25, Batch: 1000, Avg. Loss: 0.6501455207020045\n",
            "Epoch: 25, Batch: 2000, Avg. Loss: 0.6232793930098415\n",
            "Epoch: 25, Batch: 3000, Avg. Loss: 0.6376469250172376\n",
            "Epoch: 26, Batch: 1000, Avg. Loss: 0.6468676851391792\n",
            "Epoch: 26, Batch: 2000, Avg. Loss: 0.6290713879019022\n",
            "Epoch: 26, Batch: 3000, Avg. Loss: 0.6235756538361311\n",
            "Epoch: 27, Batch: 1000, Avg. Loss: 0.6350338797718287\n",
            "Epoch: 27, Batch: 2000, Avg. Loss: 0.6244971737712621\n",
            "Epoch: 27, Batch: 3000, Avg. Loss: 0.6286254341378809\n",
            "Epoch: 28, Batch: 1000, Avg. Loss: 0.6357137346044183\n",
            "Epoch: 28, Batch: 2000, Avg. Loss: 0.6186505097970366\n",
            "Epoch: 28, Batch: 3000, Avg. Loss: 0.621968803063035\n",
            "Epoch: 29, Batch: 1000, Avg. Loss: 0.6350209989398717\n",
            "Epoch: 29, Batch: 2000, Avg. Loss: 0.6094601561725139\n",
            "Epoch: 29, Batch: 3000, Avg. Loss: 0.6205114061906933\n",
            "Epoch: 30, Batch: 1000, Avg. Loss: 0.6156658183857798\n",
            "Epoch: 30, Batch: 2000, Avg. Loss: 0.6243271826505661\n",
            "Epoch: 30, Batch: 3000, Avg. Loss: 0.47119770853966475\n",
            "Finished Training\n"
          ],
          "name": "stdout"
        }
      ]
    },
    {
      "cell_type": "markdown",
      "metadata": {
        "id": "LTG58hvvz5_l"
      },
      "source": [
        "## Visualizing the loss\r\n",
        "\r\n",
        "A good indication of how much your network is learning as it trains is the loss over time. In this example, we printed and recorded the average loss for each 1000 batches and for each epoch. Let's plot it and see how the loss decreases (or doesn't) over time.\r\n",
        "\r\n",
        "In this case, you can see that it takes a little bit for a big initial loss decrease, and the loss is flattening out over time."
      ]
    },
    {
      "cell_type": "code",
      "metadata": {
        "colab": {
          "base_uri": "https://localhost:8080/",
          "height": 283
        },
        "id": "m9pn4WKFz3lq",
        "outputId": "a9d544f3-ac4c-42a7-bfe9-fa20e7c1d055"
      },
      "source": [
        "# visualize the loss as the network trained\r\n",
        "plt.plot(training_loss)\r\n",
        "plt.xlabel('1000\\'s of batches')\r\n",
        "plt.ylabel('loss')\r\n",
        "plt.ylim(0, 2.5) # consistent scale\r\n",
        "plt.show()"
      ],
      "execution_count": 18,
      "outputs": [
        {
          "output_type": "display_data",
          "data": {
            "image/png": "[encoded data removed]",
            "text/plain": [
              "<Figure size 432x288 with 1 Axes>"
            ]
          },
          "metadata": {
            "tags": [],
            "needs_background": "light"
          }
        }
      ]
    },
    {
      "cell_type": "markdown",
      "metadata": {
        "id": "glPS2xzHz-AH"
      },
      "source": [
        "### Test the Trained Network\r\n",
        "\r\n",
        "Once you are satisfied with how the loss of your model has decreased, there is one last step: test!\r\n",
        "\r\n",
        "You must test your trained model on a previously unseen dataset to see if it generalizes well and can accurately classify this new dataset. For FashionMNIST, which contains many pre-processed training images, a good model should reach **greater than 85% accuracy** on this test dataset. If you are not reaching this value, try training for a larger number of epochs, tweaking your hyperparameters, or adding/subtracting layers from your CNN."
      ]
    },
    {
      "cell_type": "code",
      "metadata": {
        "colab": {
          "base_uri": "https://localhost:8080/"
        },
        "id": "NQ4ucXMRz7_B",
        "outputId": "7c83c3b1-c06c-4010-b7f8-d2bfbc5f3ca1"
      },
      "source": [
        "# initialize tensor and lists to monitor test loss and accuracy\r\n",
        "test_loss = torch.zeros(1)\r\n",
        "class_correct = list(0. for i in range(10))\r\n",
        "class_total = list(0. for i in range(10))\r\n",
        "\r\n",
        "# set the module to evaluation mode\r\n",
        "net.eval()\r\n",
        "\r\n",
        "for batch_i, data in enumerate(test_loader):\r\n",
        "    \r\n",
        "    # get the input images and their corresponding labels\r\n",
        "    inputs, labels = data\r\n",
        "    \r\n",
        "    # forward pass to get outputs\r\n",
        "    outputs = net(inputs)\r\n",
        "\r\n",
        "    # calculate the loss\r\n",
        "    loss = criterion(outputs, labels)\r\n",
        "            \r\n",
        "    # update average test loss \r\n",
        "    test_loss = test_loss + ((torch.ones(1) / (batch_i + 1)) * (loss.data - test_loss))\r\n",
        "    \r\n",
        "    # get the predicted class from the maximum value in the output-list of class scores\r\n",
        "    _, predicted = torch.max(outputs.data, 1)\r\n",
        "    \r\n",
        "    # compare predictions to true label\r\n",
        "    # this creates a `correct` Tensor that holds the number of correctly classified images in a batch\r\n",
        "    correct = np.squeeze(predicted.eq(labels.data.view_as(predicted)))\r\n",
        "    \r\n",
        "    # calculate test accuracy for *each* object class\r\n",
        "    # we get the scalar value of correct items for a class, by calling `correct[i].item()`\r\n",
        "    for i in range(batch_size):\r\n",
        "        label = labels.data[i]\r\n",
        "        class_correct[label] += correct[i].item()\r\n",
        "        class_total[label] += 1\r\n",
        "\r\n",
        "print('Test Loss: {:.6f}\\n'.format(test_loss.numpy()[0]))\r\n",
        "\r\n",
        "for i in range(10):\r\n",
        "    if class_total[i] > 0:\r\n",
        "        print('Test Accuracy of %5s: %2d%% (%2d/%2d)' % (\r\n",
        "            classes[i], 100 * class_correct[i] / class_total[i],\r\n",
        "            np.sum(class_correct[i]), np.sum(class_total[i])))\r\n",
        "    else:\r\n",
        "        print('Test Accuracy of %5s: N/A (no training examples)' % (classes[i]))\r\n",
        "\r\n",
        "        \r\n",
        "print('\\nTest Accuracy (Overall): %2d%% (%2d/%2d)' % (\r\n",
        "    100. * np.sum(class_correct) / np.sum(class_total),\r\n",
        "    np.sum(class_correct), np.sum(class_total)))"
      ],
      "execution_count": 19,
      "outputs": [
        {
          "output_type": "stream",
          "text": [
            "Test Loss: 0.480022\n",
            "\n",
            "Test Accuracy of T-shirt/top: 88% (885/1000)\n",
            "Test Accuracy of Trouser: 95% (955/1000)\n",
            "Test Accuracy of Pullover: 75% (759/1000)\n",
            "Test Accuracy of Dress: 84% (845/1000)\n",
            "Test Accuracy of  Coat: 84% (847/1000)\n",
            "Test Accuracy of Sandal: 92% (926/1000)\n",
            "Test Accuracy of Shirt: 22% (223/1000)\n",
            "Test Accuracy of Sneaker: 95% (953/1000)\n",
            "Test Accuracy of   Bag: 94% (945/1000)\n",
            "Test Accuracy of Ankle boot: 93% (931/1000)\n",
            "\n",
            "Test Accuracy (Overall): 82% (8269/10000)\n"
          ],
          "name": "stdout"
        }
      ]
    },
    {
      "cell_type": "markdown",
      "metadata": {
        "id": "uuUATenD0CZb"
      },
      "source": [
        "### Visualize sample test results\r\n",
        "\r\n",
        "Format: predicted class (true class)"
      ]
    },
    {
      "cell_type": "code",
      "metadata": {
        "colab": {
          "base_uri": "https://localhost:8080/",
          "height": 266
        },
        "id": "FSek6a-bz__K",
        "outputId": "0bdd859e-c6c7-4a71-8c95-c254103ae280"
      },
      "source": [
        "# obtain one batch of test images\r\n",
        "dataiter = iter(test_loader)\r\n",
        "images, labels = dataiter.next()\r\n",
        "# get predictions\r\n",
        "preds = np.squeeze(net(images).data.max(1, keepdim=True)[1].numpy())\r\n",
        "images = images.numpy()\r\n",
        "\r\n",
        "# plot the images in the batch, along with predicted and true labels\r\n",
        "fig = plt.figure(figsize=(25, 4))\r\n",
        "for idx in np.arange(batch_size):\r\n",
        "    ax = fig.add_subplot(2, batch_size/2, idx+1, xticks=[], yticks=[])\r\n",
        "    ax.imshow(np.squeeze(images[idx]), cmap='gray')\r\n",
        "    ax.set_title(\"{} ({})\".format(classes[preds[idx]], classes[labels[idx]]),\r\n",
        "                 color=(\"green\" if preds[idx]==labels[idx] else \"red\"))"
      ],
      "execution_count": 20,
      "outputs": [
        {
          "output_type": "display_data",
          "data": {
            "image/png": "[encoded data removed]",
            "text/plain": [
              "<Figure size 1800x288 with 20 Axes>"
            ]
          },
          "metadata": {
            "tags": []
          }
        }
      ]
    },
    {
      "cell_type": "markdown",
      "metadata": {
        "id": "yA42uxrL0GNc"
      },
      "source": [
        "### Question: What are some weaknesses of your model? (And how might you improve these in future iterations.)"
      ]
    },
    {
      "cell_type": "markdown",
      "metadata": {
        "id": "b939U0QD0IgE"
      },
      "source": [
        "**Answer**: This model performs well on everything but shirts and pullovers (0% accuracy); it looks like this incorrectly classifies most of those as a coat which has a similar overall shape. Because it performs well on everything but these two classes, I suspect this model is overfitting certain classes at the cost of generalization. I suspect that this accuracy could be improved by adding some dropout layers to aoid overfitting."
      ]
    },
    {
      "cell_type": "code",
      "metadata": {
        "id": "zA713iNgBTfp"
      },
      "source": [
        "# Saving the model\r\n",
        "model_dir = 'saved_models/'\r\n",
        "model_name = 'fashion_net_simple.pt'\r\n",
        "\r\n",
        "# after training, save your model parameters in the dir 'saved_models'\r\n",
        "# when you're ready, un-comment the line below\r\n",
        "torch.save(net.state_dict(), model_dir+model_name)"
      ],
      "execution_count": null,
      "outputs": []
    },
    {
      "cell_type": "code",
      "metadata": {
        "id": "XSuzkX9B0K8y"
      },
      "source": [
        ""
      ],
      "execution_count": 21,
      "outputs": []
    }
  ]
}